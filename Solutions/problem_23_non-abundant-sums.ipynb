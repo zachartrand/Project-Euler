{
 "cells": [
  {
   "cell_type": "markdown",
   "id": "5a26b706-be34-49fb-b8b7-a02155115cde",
   "metadata": {},
   "source": [
    "# Project Euler\n",
    "## [Problem 23]((https://projecteuler.net/problem=23))\n",
    "### Non-abundant sums"
   ]
  },
  {
   "cell_type": "markdown",
   "id": "e0c19b77-5ff4-4438-975f-81e8c8ee41b5",
   "metadata": {},
   "source": [
    "<p>A perfect number is a number for which the sum of its proper divisors is exactly equal to the number. For example, the sum of the proper divisors of 28 would be 1 + 2 + 4 + 7 + 14 = 28, which means that 28 is a perfect number.</p>\n",
    "<p>A number <var>n</var> is called deficient if the sum of its proper divisors is less than <var>n</var> and it is called abundant if this sum exceeds <var>n</var>.</p>\n",
    "\n",
    "<p>As 12 is the smallest abundant number, 1 + 2 + 3 + 4 + 6 = 16, the smallest number that can be written as the sum of two abundant numbers is 24. By mathematical analysis, it can be shown that all integers greater than 28123 can be written as the sum of two abundant numbers. However, this upper limit cannot be reduced any further by analysis even though it is known that the greatest number that cannot be expressed as the sum of two abundant numbers is less than this limit.</p>\n",
    "<p>Find the sum of all the positive integers which cannot be written as the sum of two abundant numbers.</p>"
   ]
  },
  {
   "cell_type": "markdown",
   "id": "96a30777-7925-4b98-907f-072bddf7b339",
   "metadata": {},
   "source": [
    "### Solution\n",
    "\n",
    "The first step is to find all of the abundant numbers from 1 to 28,123.\n",
    "Then, iterate through all of the abundant numbers, find their sums, and\n",
    "categorize which numbers are and are not sums of abundant numbers."
   ]
  },
  {
   "cell_type": "code",
   "execution_count": 1,
   "id": "e7a123eb-0658-4126-919f-8385f2c49f99",
   "metadata": {},
   "outputs": [],
   "source": [
    "# from eulerlib import get_factors\n",
    "from time import time\n",
    "\n",
    "MAX_NUMBER = 28124"
   ]
  },
  {
   "cell_type": "code",
   "execution_count": 2,
   "id": "44216e2e-7115-458a-86b6-b7fd3651c161",
   "metadata": {},
   "outputs": [],
   "source": [
    "# Method 1 for finding abundant numbers.\n",
    "# abundant_numbers = []\n",
    "# for number in range(12, MAX_NUMBER):\n",
    "#     if sum(get_factors(number)) > number:\n",
    "#         abundant_numbers.append(number)\n",
    "\n",
    "# Method 2 for finding abundant numbers. This one is faster.\n",
    "sum_of_divisors = [0] * MAX_NUMBER\n",
    "for i in range(1, MAX_NUMBER):\n",
    "    for j in range(i*2, MAX_NUMBER, i):\n",
    "        sum_of_divisors[j] += i\n",
    "abundant_numbers = [i for i, x in enumerate(sum_of_divisors) if x > i]"
   ]
  },
  {
   "cell_type": "code",
   "execution_count": 3,
   "id": "c9bfdedf-e971-4559-8d12-7693389a80f6",
   "metadata": {},
   "outputs": [],
   "source": [
    "is_abundant_sum = [False] * MAX_NUMBER\n",
    "for i, number in enumerate(abundant_numbers):\n",
    "    for second_number in abundant_numbers[i:]:\n",
    "        if number + second_number < MAX_NUMBER:\n",
    "            is_abundant_sum[number+second_number] = True\n",
    "        else:\n",
    "            break"
   ]
  },
  {
   "cell_type": "code",
   "execution_count": 4,
   "id": "828898a5-d949-48f2-ab66-75be713d5095",
   "metadata": {},
   "outputs": [],
   "source": [
    "not_sums = [i for i, x in enumerate(is_abundant_sum) if not x]"
   ]
  },
  {
   "cell_type": "code",
   "execution_count": 5,
   "id": "5536f7cb-b176-47f7-a46c-4614d59c81c8",
   "metadata": {},
   "outputs": [
    {
     "data": {
      "text/plain": [
       "4179871"
      ]
     },
     "execution_count": 5,
     "metadata": {},
     "output_type": "execute_result"
    }
   ],
   "source": [
    "sum(not_sums)"
   ]
  }
 ],
 "metadata": {
  "kernelspec": {
   "display_name": "Python 3",
   "language": "python",
   "name": "python3"
  },
  "language_info": {
   "codemirror_mode": {
    "name": "ipython",
    "version": 3
   },
   "file_extension": ".py",
   "mimetype": "text/x-python",
   "name": "python",
   "nbconvert_exporter": "python",
   "pygments_lexer": "ipython3",
   "version": "3.8.10"
  }
 },
 "nbformat": 4,
 "nbformat_minor": 5
}
