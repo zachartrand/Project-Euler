{
 "cells": [
  {
   "cell_type": "markdown",
   "id": "38dfd5a8-a8d5-4e91-918f-cca81aad5d67",
   "metadata": {},
   "source": [
    "# Project Euler\n",
    "## Problem 69\n",
    "### Totient maximum"
   ]
  },
  {
   "cell_type": "markdown",
   "id": "65d66c4a-d156-4449-beb9-f2beca194e03",
   "metadata": {},
   "source": [
    "<p>Euler's Totient function, φ(<i>n</i>) [sometimes called the phi function], is used to determine the number of numbers less than <i>n</i> which are relatively prime to <i>n</i>. For example, as 1, 2, 4, 5, 7, and 8, are all less than nine and relatively prime to nine, φ(9)=6.</p>"
   ]
  },
  {
   "cell_type": "markdown",
   "id": "5300663b-3ec1-4c02-81c3-85327c7d0772",
   "metadata": {},
   "source": [
    "<div class=\"center\">\n",
    "    <table class=\"grid center\">\n",
    "        <tr>\n",
    "            <td><b><i>n</i></b></td>\n",
    "            <td><b>Relatively Prime</b></td>\n",
    "            <td><b>φ(<i>n</i>)</b></td>\n",
    "            <td><b><i>n</i>/φ(<i>n</i>)</b></td>\n",
    "        </tr>\n",
    "        <tr>\n",
    "            <td>2</td>\n",
    "            <td>1</td>\n",
    "            <td>1</td>\n",
    "            <td>2</td>\n",
    "        </tr>\n",
    "        <tr>\n",
    "            <td>3</td>\n",
    "            <td>1,2</td>\n",
    "            <td>2</td>\n",
    "            <td>1.5</td>\n",
    "        </tr>\n",
    "        <tr>\n",
    "            <td>4</td>\n",
    "            <td>1,3</td>\n",
    "            <td>2</td>\n",
    "            <td>2</td>\n",
    "        </tr>\n",
    "        <tr>\n",
    "            <td>5</td>\n",
    "            <td>1,2,3,4</td>\n",
    "            <td>4</td>\n",
    "            <td>1.25</td>\n",
    "        </tr>\n",
    "        <tr>\n",
    "            <td>6</td>\n",
    "            <td>1,5</td>\n",
    "            <td>2</td>\n",
    "            <td>3</td>\n",
    "        </tr>\n",
    "        <tr>\n",
    "            <td>7</td>\n",
    "            <td>1,2,3,4,5,6</td>\n",
    "            <td>6</td>\n",
    "            <td>1.1666...</td>\n",
    "        </tr>\n",
    "        <tr>\n",
    "            <td>8</td>\n",
    "            <td>1,3,5,7</td>\n",
    "            <td>4</td>\n",
    "            <td>2</td>\n",
    "        </tr>\n",
    "            <tr><td>9</td>\n",
    "            <td>1,2,4,5,7,8</td>\n",
    "            <td>6</td>\n",
    "            <td>1.5</td>\n",
    "        </tr>\n",
    "        <tr>\n",
    "            <td>10</td>\n",
    "            <td>1,3,7,9</td>\n",
    "            <td>4</td>\n",
    "            <td>2.5</td>\n",
    "        </tr>\n",
    "    </table>\n",
    "</div>"
   ]
  },
  {
   "cell_type": "markdown",
   "id": "e800aa18-b8ce-40e3-93e4-b6db20fdab01",
   "metadata": {},
   "source": [
    "<p>It can be seen that <i>n</i>=6 produces a maximum <i>n</i>/φ(<i>n</i>) for <i>n</i> ≤ 10.</p>\n",
    "<p>Find the value of <i>n</i> ≤ 1,000,000 for which <i>n</i>/φ(<i>n</i>) is a maximum.</p>"
   ]
  },
  {
   "cell_type": "markdown",
   "id": "6617c770-69f2-4e82-9822-f6597a763c20",
   "metadata": {},
   "source": [
    "### Solution 1: Using Euler's totient function\n",
    "\n",
    "The first solution I thought of was to make an array of totient function\n",
    "solutions, where the index of the array was the input and the value at that\n",
    "index was the output. I then made a second array of n/φ(n), found the maximum\n",
    "value, and found the index that the maximum value was found at."
   ]
  },
  {
   "cell_type": "code",
   "execution_count": 1,
   "id": "0ae4d99b-dea4-4892-9c48-46023cdaf85c",
   "metadata": {},
   "outputs": [],
   "source": [
    "LIMIT = 1000000\n",
    "\n",
    "\n",
    "def totient_list(n, /):\n",
    "    \"\"\"\n",
    "    Return a list of Euler's totient function for all numbers up to n.\n",
    "    \"\"\"\n",
    "    # This algorithm is based on the product formula for Euler's totient\n",
    "    # function. The totient function of a number n can be found by the product\n",
    "    #\n",
    "    #     n * prod([(1-1/p) for p in distinct_primes(n)])\n",
    "    #\n",
    "    # where distinct_primes(n) is the distinct prime factors of n.\n",
    "    # For example, since 12 == 2**2 * 3, its distinct prime factors are\n",
    "    # 2 and 3 (2 is not counted twice). Therefore, the totient of 12 is\n",
    "    #\n",
    "    #     12 * (1-1/2) * (1-1/3) == 4\n",
    "    #\n",
    "    # This can be broken into individual steps. The first step for the number\n",
    "    # 12 is\n",
    "    #\n",
    "    #    12 * (1-1/2) == 12 - 6 == 6.\n",
    "    #\n",
    "    # The second step is then\n",
    "    #\n",
    "    #    6 * (1-1/3) == 6 - 2 == 4.\n",
    "    #\n",
    "    # This function first creates an array of all numbers from 0 to n.\n",
    "    # It then loops through all numbers in the array. If the number is greater\n",
    "    # than 1 and is equal to its value in the array, then it is prime,\n",
    "    # because the prime numbers will not be affected by lower values.\n",
    "    # The function then loops through all multiples of the prime number \n",
    "    # (including the prime number itself) and subtracts the quotient of the\n",
    "    # remaining number by the prime number.\n",
    "    \n",
    "    totients = [i for i in range(n+1)]\n",
    "    for i, totient in enumerate(totients):\n",
    "        if i == totient and i > 1:  # i is a prime number.\n",
    "            for j in range(i, n+1, i):\n",
    "                totients[j] -= totients[j] // i\n",
    "    \n",
    "    return totients"
   ]
  },
  {
   "cell_type": "code",
   "execution_count": 2,
   "id": "086d44c2-bfd0-49b7-b85d-647d8ffc48d0",
   "metadata": {},
   "outputs": [],
   "source": [
    "totients = totient_list(LIMIT)"
   ]
  },
  {
   "cell_type": "code",
   "execution_count": 3,
   "id": "ded9429d-3ba7-48bb-a1dc-05cb3c7322f8",
   "metadata": {},
   "outputs": [
    {
     "name": "stdout",
     "output_type": "stream",
     "text": [
      "[0, 1, 1, 2, 2, 4, 2, 6, 4, 6, 4, 10, 4, 12, 6, 8, 8, 16, 6, 18]\n"
     ]
    }
   ],
   "source": [
    "print(totients[:20])"
   ]
  },
  {
   "cell_type": "code",
   "execution_count": 4,
   "id": "eec1b2de-192c-41fc-8b56-681c4f95e0f8",
   "metadata": {},
   "outputs": [],
   "source": [
    "totient_ratios = [0 for t in totients]\n",
    "for i, totient in enumerate(totients):\n",
    "    if totient > 0:  # Avoids divide by zero.\n",
    "        totient_ratios[i] = i / totient"
   ]
  },
  {
   "cell_type": "code",
   "execution_count": 5,
   "id": "736ae0d4-9b69-4ccb-a725-9d028e6a8d32",
   "metadata": {},
   "outputs": [
    {
     "data": {
      "text/plain": [
       "[0, 1.0, 2.0, 1.5, 2.0, 1.25, 3.0, 1.1666666666666667, 2.0, 1.5]"
      ]
     },
     "execution_count": 5,
     "metadata": {},
     "output_type": "execute_result"
    }
   ],
   "source": [
    "totient_ratios[:10]"
   ]
  },
  {
   "cell_type": "code",
   "execution_count": 6,
   "id": "ce2ff22b-9227-4cff-bfc1-ab39aa78dbc4",
   "metadata": {},
   "outputs": [
    {
     "data": {
      "text/plain": [
       "5.539388020833333"
      ]
     },
     "execution_count": 6,
     "metadata": {},
     "output_type": "execute_result"
    }
   ],
   "source": [
    "max(totient_ratios)"
   ]
  },
  {
   "cell_type": "code",
   "execution_count": 7,
   "id": "fc91c487-791d-4acc-b7cf-fc247de34d40",
   "metadata": {},
   "outputs": [
    {
     "data": {
      "text/plain": [
       "510510"
      ]
     },
     "execution_count": 7,
     "metadata": {},
     "output_type": "execute_result"
    }
   ],
   "source": [
    "totient_ratios.index(max(totient_ratios))"
   ]
  },
  {
   "cell_type": "markdown",
   "id": "dc2df86e-0082-4e40-8b31-5c18563c0306",
   "metadata": {},
   "source": [
    "### Solution 2: Finding a number with the most distinct prime factors\n",
    "\n",
    "Like many problems I solve, I think of a complicated solution rather than the\n",
    "simplest. This was mentioned in the solution thread. Since the totient\n",
    "function shows numbers that are coprime to n, the ratio of n/φ(n) increases\n",
    "when φ(n) is small, and φ(n) is small when the number of distinct prime\n",
    "factors is large. So, you can find the product of all consecutive prime\n",
    "numbers that is lower than one million. This happens to be the product of all\n",
    "the primes between 2 and 19 inclusive:"
   ]
  },
  {
   "cell_type": "code",
   "execution_count": 8,
   "id": "efafcb93-8f04-4423-b5a8-68e50dbc1445",
   "metadata": {},
   "outputs": [
    {
     "name": "stdout",
     "output_type": "stream",
     "text": [
      "510510\n"
     ]
    }
   ],
   "source": [
    "from eulerlib import prime_sieve\n",
    "\n",
    "primes = prime_sieve(20)\n",
    "number = 1\n",
    "for prime in primes:\n",
    "    number *= prime\n",
    "    if number > LIMIT:\n",
    "        number //= prime\n",
    "        break\n",
    "print(number)"
   ]
  }
 ],
 "metadata": {
  "kernelspec": {
   "display_name": "Python 3",
   "language": "python",
   "name": "python3"
  },
  "language_info": {
   "codemirror_mode": {
    "name": "ipython",
    "version": 3
   },
   "file_extension": ".py",
   "mimetype": "text/x-python",
   "name": "python",
   "nbconvert_exporter": "python",
   "pygments_lexer": "ipython3",
   "version": "3.8.10"
  }
 },
 "nbformat": 4,
 "nbformat_minor": 5
}
