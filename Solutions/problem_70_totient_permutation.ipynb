{
 "cells": [
  {
   "cell_type": "markdown",
   "id": "40564e12-c0a9-4b50-b715-2d4aee822f0d",
   "metadata": {},
   "source": [
    "# Project Euler\n",
    "## Problem 70\n",
    "### Totient permutation"
   ]
  },
  {
   "cell_type": "markdown",
   "id": "0147e592-975d-474f-9c82-533f3cdaec6f",
   "metadata": {},
   "source": [
    "<p>Euler's Totient function, φ(<var>n</var>) [sometimes called the phi function], is used to determine the number of positive numbers less than or equal to <var>n</var> which are relatively prime to <var>n</var>. For example, as 1, 2, 4, 5, 7, and 8, are all less than nine and relatively prime to nine, φ(9)=6.<br />The number 1 is considered to be relatively prime to every positive number, so φ(1)=1. </p>\n",
    "<p>Interestingly, φ(87109)=79180, and it can be seen that 87109 is a permutation of 79180.</p>\n",
    "<p>Find the value of <var>n</var>, 1 &lt; <var>n</var> &lt; 10<sup>7</sup>, for which φ(<var>n</var>) is a permutation of <var>n</var> and the ratio <var>n</var>/φ(<var>n</var>) produces a minimum.</p>"
   ]
  },
  {
   "cell_type": "markdown",
   "id": "8070b3f9-3ca0-40fb-9650-ad8fd8406151",
   "metadata": {},
   "source": [
    "### Solution 1: Brute force"
   ]
  },
  {
   "cell_type": "code",
   "execution_count": 1,
   "id": "5ce47244-4695-41a0-abec-110c1af361aa",
   "metadata": {},
   "outputs": [],
   "source": [
    "from eulerlib import totient_list"
   ]
  },
  {
   "cell_type": "code",
   "execution_count": 2,
   "id": "2c382e46-6a0d-47b7-8178-64faf0a7c92e",
   "metadata": {},
   "outputs": [],
   "source": [
    "totients = totient_list(10**7)"
   ]
  },
  {
   "cell_type": "code",
   "execution_count": 3,
   "id": "4f64f980-d995-4e4c-914c-0ceb4639fbf5",
   "metadata": {},
   "outputs": [],
   "source": [
    "permutations = {}\n",
    "for i, totient in enumerate(totients):\n",
    "    if i >= 2:\n",
    "        if sorted(str(i)) == sorted(str(totient)):\n",
    "            permutations[i/totient] = i"
   ]
  },
  {
   "cell_type": "code",
   "execution_count": 4,
   "id": "20b5c7b2-a0eb-4504-9553-b019de60fdf3",
   "metadata": {},
   "outputs": [
    {
     "data": {
      "text/plain": [
       "8319823"
      ]
     },
     "execution_count": 4,
     "metadata": {},
     "output_type": "execute_result"
    }
   ],
   "source": [
    "permutations[min(permutations.keys())]"
   ]
  },
  {
   "cell_type": "markdown",
   "id": "5ed158dd-e365-443a-9c6c-7087a2178ea5",
   "metadata": {},
   "source": [
    "### Solution 2: Product of two large primes"
   ]
  },
  {
   "cell_type": "code",
   "execution_count": 5,
   "id": "23483449-4e85-4d77-b047-4ba9e9a9965a",
   "metadata": {},
   "outputs": [],
   "source": [
    "from eulerlib import prime_sieve\n",
    "\n",
    "LIMIT = 10**7\n",
    "PRIMES = [prime for prime in prime_sieve(5 * int((LIMIT//10)**0.5)) if prime > (LIMIT//10)**0.5]"
   ]
  },
  {
   "cell_type": "code",
   "execution_count": 6,
   "id": "bbbb3b64-7572-4460-862c-54f02e98031c",
   "metadata": {},
   "outputs": [],
   "source": [
    "totients = {}\n",
    "for i, prime_1 in enumerate(PRIMES):\n",
    "    for prime_2 in PRIMES[i:]:\n",
    "        product = prime_1 * prime_2\n",
    "        if product < LIMIT:\n",
    "            totient = (prime_1-1) * (prime_2-1)\n",
    "            str_product = str(product)\n",
    "            str_totient = str(totient)\n",
    "            if len(str_product) == len(str_totient):\n",
    "                if sorted(str_product) == sorted(str_totient):\n",
    "                    totients[product/totient] = product\n",
    "        else:\n",
    "            break"
   ]
  },
  {
   "cell_type": "code",
   "execution_count": 7,
   "id": "43fdd206-40a0-4a7c-bdc8-169f2668fac7",
   "metadata": {},
   "outputs": [
    {
     "data": {
      "text/plain": [
       "8319823"
      ]
     },
     "execution_count": 7,
     "metadata": {},
     "output_type": "execute_result"
    }
   ],
   "source": [
    "totients[min(totients.keys())]"
   ]
  }
 ],
 "metadata": {
  "kernelspec": {
   "display_name": "Python 3",
   "language": "python",
   "name": "python3"
  },
  "language_info": {
   "codemirror_mode": {
    "name": "ipython",
    "version": 3
   },
   "file_extension": ".py",
   "mimetype": "text/x-python",
   "name": "python",
   "nbconvert_exporter": "python",
   "pygments_lexer": "ipython3",
   "version": "3.8.10"
  }
 },
 "nbformat": 4,
 "nbformat_minor": 5
}
