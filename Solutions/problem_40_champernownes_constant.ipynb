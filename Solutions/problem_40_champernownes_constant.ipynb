{
 "cells": [
  {
   "cell_type": "markdown",
   "id": "7f917fba-ece8-4ec5-bfd7-8d1694e9d7e0",
   "metadata": {},
   "source": [
    "# Project Euler\n",
    "## Problem 40\n",
    "### Champernowne's constant\n",
    "\n",
    "<p>An irrational decimal fraction is created by concatenating the positive integers:</p>\n",
    "<p class=\"center\">0.12345678910<span style=\"color:red;\"><strong>1</strong></span>112131415161718192021...</p>\n",
    "<p>It can be seen that the 12<sup>th</sup> digit of the fractional part is 1.</p>\n",
    "<p>If <i>d</i><sub><i>n</i></sub> represents the <i>n</i><sup>th</sup> digit of the fractional part, find the value of the following expression.</p>\n",
    "<p class=\"center\"><i>d</i><sub>1</sub> × <i>d</i><sub>10</sub> × <i>d</i><sub>100</sub> × <i>d</i><sub>1000</sub> × <i>d</i><sub>10000</sub> × <i>d</i><sub>100000</sub> × <i>d</i><sub>1000000</sub></p>"
   ]
  },
  {
   "cell_type": "code",
   "execution_count": 1,
   "id": "39c80492-a778-405a-b9f2-69098bdca9fd",
   "metadata": {},
   "outputs": [
    {
     "data": {
      "text/plain": [
       "210"
      ]
     },
     "execution_count": 1,
     "metadata": {},
     "output_type": "execute_result"
    }
   ],
   "source": [
    "limit = int(2e5)\n",
    "d = \"\".join([str(i) for i in range(limit)])\n",
    "n = 1\n",
    "for i in range(6):\n",
    "    n *= int(d[10**i])\n",
    "\n",
    "n"
   ]
  }
 ],
 "metadata": {
  "kernelspec": {
   "display_name": "Python 3 (ipykernel)",
   "language": "python",
   "name": "python3"
  },
  "language_info": {
   "codemirror_mode": {
    "name": "ipython",
    "version": 3
   },
   "file_extension": ".py",
   "mimetype": "text/x-python",
   "name": "python",
   "nbconvert_exporter": "python",
   "pygments_lexer": "ipython3",
   "version": "3.10.0"
  }
 },
 "nbformat": 4,
 "nbformat_minor": 5
}
