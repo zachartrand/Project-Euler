{
 "cells": [
  {
   "cell_type": "markdown",
   "id": "962db21f-a0ec-4a4b-88db-df743b6b0214",
   "metadata": {},
   "source": [
    "\n",
    "\n",
    "# Project Euler\n",
    "## [Problem 18](https://projecteuler.net/problem=18)\n",
    "### Maximum path sum I\n",
    "\n",
    "By starting at the top of the triangle below and moving to adjacent numbers on the row below, the maximum total from top to bottom is 23.\n",
    "\n",
    "<center>\n",
    "  <span style=\"color:#c00; font-weight:bold\">3</span><br>\n",
    "  <span style=\"color:#c00; font-weight:bold\">7</span> 4<br>\n",
    "  2 <span style=\"color:#c00; font-weight:bold\">4</span> 6<br>\n",
    "  8 5 <span style=\"color:#c00; font-weight:bold\">9</span> 3<br>\n",
    "</center><br>\n",
    "\n",
    "That is, 3 + 7 + 4 + 9 = 23.\n",
    "\n",
    "Find the maximum total from top to bottom of the triangle below:\n",
    "\n",
    "<center>\n",
    "75<br>\n",
    "95 64<br>\n",
    "17 47 82<br>\n",
    "18 35 87 10<br>\n",
    "20 04 82 47 65<br>\n",
    "19 01 23 75 03 34<br>\n",
    "88 02 77 73 07 63 67<br>\n",
    "99 65 04 28 06 16 70 92<br>\n",
    "41 41 26 56 83 40 80 70 33<br>\n",
    "41 48 72 33 47 32 37 16 94 29<br>\n",
    "53 71 44 65 25 43 91 52 97 51 14<br>\n",
    "70 11 33 28 77 73 17 78 39 68 17 57<br>\n",
    "91 71 52 38 17 14 91 43 58 50 27 29 48<br>\n",
    "63 66 04 68 89 53 67 30 73 16 69 87 40 31<br>\n",
    "04 62 98 27 23 09 70 98 73 93 38 53 60 04 23<br>\n",
    "</center><br>\n",
    "\n",
    "\n",
    "**NOTE:** As there are only 16384 routes, it is possible to solve this problem by trying every route. However, Problem 67, is the same challenge with a triangle containing one-hundred rows; it cannot be solved by brute force, and requires a clever method! ;o)"
   ]
  },
  {
   "cell_type": "code",
   "execution_count": 1,
   "id": "746a8b44-dd60-4e97-8c64-1d529d100f16",
   "metadata": {},
   "outputs": [],
   "source": [
    "triangle_str = \"\"\"75\n",
    "95 64\n",
    "17 47 82\n",
    "18 35 87 10\n",
    "20 04 82 47 65\n",
    "19 01 23 75 03 34\n",
    "88 02 77 73 07 63 67\n",
    "99 65 04 28 06 16 70 92\n",
    "41 41 26 56 83 40 80 70 33\n",
    "41 48 72 33 47 32 37 16 94 29\n",
    "53 71 44 65 25 43 91 52 97 51 14\n",
    "70 11 33 28 77 73 17 78 39 68 17 57\n",
    "91 71 52 38 17 14 91 43 58 50 27 29 48\n",
    "63 66 04 68 89 53 67 30 73 16 69 87 40 31\n",
    "04 62 98 27 23 09 70 98 73 93 38 53 60 04 23\"\"\""
   ]
  },
  {
   "cell_type": "code",
   "execution_count": 2,
   "id": "387b3745-04b3-4d74-880a-f6e0a3880a85",
   "metadata": {},
   "outputs": [],
   "source": [
    "def string_to_number_list(string):\n",
    "    triangle_by_row = string.strip().split(\"\\n\")\n",
    "    triangle = []\n",
    "    for row in triangle_by_row:\n",
    "        numbers = row.split()\n",
    "        number_row = []\n",
    "        for number in numbers:\n",
    "            number_row.append(int(number))\n",
    "        triangle.append(number_row)\n",
    "    \n",
    "    return triangle\n",
    "\n",
    "def get_max_sums(triangle):\n",
    "    triangle_sums = [[value for value in row] for row in reversed(triangle)]\n",
    "    for i, row in enumerate(triangle_sums[1:]):  # Need to remove top row or Python will throw an IndexError.\n",
    "        for j, _ in enumerate(row):\n",
    "            triangle_sums[i+1][j] += max(triangle_sums[i][j], triangle_sums[i][j+1])\n",
    "    \n",
    "    return triangle_sums[::-1]"
   ]
  },
  {
   "cell_type": "code",
   "execution_count": 3,
   "id": "ee687638-4f51-40a8-b7b2-2dc4996c42d3",
   "metadata": {},
   "outputs": [],
   "source": [
    "triangle = string_to_number_list(triangle_str)\n",
    "max_triangle = get_max_sums(triangle)"
   ]
  },
  {
   "cell_type": "code",
   "execution_count": 4,
   "id": "6c3b2be5-6a08-428f-9141-7723f3054e30",
   "metadata": {},
   "outputs": [
    {
     "data": {
      "text/plain": [
       "1074"
      ]
     },
     "execution_count": 4,
     "metadata": {},
     "output_type": "execute_result"
    }
   ],
   "source": [
    "max_triangle[0][0]"
   ]
  },
  {
   "cell_type": "markdown",
   "id": "ff5e658a-f8a9-4e5d-a7ef-c70a18bcdb3d",
   "metadata": {},
   "source": [
    "### Extra Credit: Find the values and the path from the sums\n",
    "\n",
    "For fun, I tried to reverse engineer the path from the sums and the values of the triangle. \n",
    "I was able to make a function that works, and I have it below:"
   ]
  },
  {
   "cell_type": "code",
   "execution_count": 5,
   "id": "1f719b8c-f0de-4f07-9817-c923812bb1a9",
   "metadata": {},
   "outputs": [],
   "source": [
    "def get_max_path_values(triangle):\n",
    "    \n",
    "    indices = []\n",
    "    sums = [[value for value in row] for row in get_max_sums(triangle)]\n",
    "    for i, row in enumerate(reversed(sums)):\n",
    "        if i == 0:\n",
    "            indices.append(0)\n",
    "        else:\n",
    "            last_index = indices[-1]\n",
    "            values = sums[i-1][last_index] - sums[i][last_index], sums[i-1][last_index] - sums[i][last_index+1]\n",
    "            is_number = values[0] == triangle[i-1][last_index], values[1] == triangle[i-1][last_index]\n",
    "            index = last_index + is_number.index(True)\n",
    "            indices.append(index)\n",
    "\n",
    "    values =[]\n",
    "    for i, index in enumerate(indices):\n",
    "        values.append(triangle[i][index])\n",
    "        \n",
    "    return values"
   ]
  },
  {
   "cell_type": "code",
   "execution_count": 6,
   "id": "13d12f8b-d0c1-4428-a154-05d5e43f7fd4",
   "metadata": {},
   "outputs": [
    {
     "name": "stdout",
     "output_type": "stream",
     "text": [
      "[75, 64, 82, 87, 82, 75, 73, 28, 83, 32, 91, 78, 58, 73, 93]\n"
     ]
    },
    {
     "data": {
      "text/plain": [
       "1074"
      ]
     },
     "execution_count": 6,
     "metadata": {},
     "output_type": "execute_result"
    }
   ],
   "source": [
    "values = get_max_path_values(triangle)\n",
    "print(values)\n",
    "sum(values)"
   ]
  }
 ],
 "metadata": {
  "kernelspec": {
   "display_name": "Python 3",
   "language": "python",
   "name": "python3"
  },
  "language_info": {
   "codemirror_mode": {
    "name": "ipython",
    "version": 3
   },
   "file_extension": ".py",
   "mimetype": "text/x-python",
   "name": "python",
   "nbconvert_exporter": "python",
   "pygments_lexer": "ipython3",
   "version": "3.8.10"
  }
 },
 "nbformat": 4,
 "nbformat_minor": 5
}
