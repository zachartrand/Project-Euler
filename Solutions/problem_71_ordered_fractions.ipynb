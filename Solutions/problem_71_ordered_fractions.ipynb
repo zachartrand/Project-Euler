{
 "cells": [
  {
   "cell_type": "markdown",
   "id": "54b26955-4909-491e-9b65-b96f33f97067",
   "metadata": {},
   "source": [
    "# Project Euler\n",
    "## Problem 71\n",
    "### Ordered fractions"
   ]
  },
  {
   "cell_type": "markdown",
   "id": "cf4d7e20-44d0-497c-aeaf-9a8cc9f4edf1",
   "metadata": {},
   "source": [
    "<p>Consider the fraction, <i>n/d</i>, where <i>n</i> and <i>d</i> are positive integers. If <i>n</i>&lt;<i>d</i> and HCF(<i>n,d</i>)=1, it is called a reduced proper fraction.</p>\n",
    "<p>If we list the set of reduced proper fractions for <i>d</i> ≤ 8 in ascending order of size, we get:</p>\n",
    "<p class=\"center smaller\">1/8, 1/7, 1/6, 1/5, 1/4, 2/7, 1/3, 3/8, <b>2/5</b>, 3/7, 1/2, 4/7, 3/5, 5/8, 2/3, 5/7, 3/4, 4/5, 5/6, 6/7, 7/8</p>\n",
    "<p>It can be seen that 2/5 is the fraction immediately to the left of 3/7.</p>\n",
    "<p>By listing the set of reduced proper fractions for <i>d</i> ≤ 1,000,000 in ascending order of size, find the numerator of the fraction immediately to the left of 3/7.</p>"
   ]
  },
  {
   "cell_type": "markdown",
   "id": "472d2afd-9a44-4949-a9e0-d6d8d1e288e7",
   "metadata": {},
   "source": [
    "### Solution\n",
    "\n",
    "Because we only need to find the fraction just under 3/7, we can reduce our \n",
    "search to all fractions just below 3/7."
   ]
  },
  {
   "cell_type": "code",
   "execution_count": 1,
   "id": "077c2ca3-91f9-4a8f-872f-8315ec1daabb",
   "metadata": {},
   "outputs": [
    {
     "name": "stdout",
     "output_type": "stream",
     "text": [
      "0.42857128571385716\n",
      "\n",
      "428570 999997\n"
     ]
    }
   ],
   "source": [
    "LIMIT = 10**6\n",
    "\n",
    "current_fraction = 2/5\n",
    "current_n = 2\n",
    "current_d = 5\n",
    "for d in range(2, LIMIT+1):\n",
    "    n = (3 * d) // 7\n",
    "    fraction = n/d\n",
    "    if fraction > current_fraction and fraction < 3/7:\n",
    "        current_n = n\n",
    "        current_d = d\n",
    "        current_fraction = fraction\n",
    "\n",
    "print(current_n/current_d)\n",
    "print()\n",
    "print(current_n, current_d)"
   ]
  }
 ],
 "metadata": {
  "kernelspec": {
   "display_name": "Python 3",
   "language": "python",
   "name": "python3"
  },
  "language_info": {
   "codemirror_mode": {
    "name": "ipython",
    "version": 3
   },
   "file_extension": ".py",
   "mimetype": "text/x-python",
   "name": "python",
   "nbconvert_exporter": "python",
   "pygments_lexer": "ipython3",
   "version": "3.8.10"
  }
 },
 "nbformat": 4,
 "nbformat_minor": 5
}
