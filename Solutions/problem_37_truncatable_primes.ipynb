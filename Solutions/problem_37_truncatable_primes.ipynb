{
 "cells": [
  {
   "cell_type": "markdown",
   "id": "f9aa0748-6899-42a7-8967-a7ea62e1bc1a",
   "metadata": {
    "tags": []
   },
   "source": [
    "# Project Euler\n",
    "## Problem 37\n",
    "### Truncatable primes\n",
    "\n",
    "<p>The number 3797 has an interesting property. Being prime itself, it is possible to continuously remove digits from left to right, and remain prime at each stage: 3797, 797, 97, and 7. Similarly we can work from right to left: 3797, 379, 37, and 3.</p>\n",
    "<p>Find the sum of the only eleven primes that are both truncatable from left to right and right to left.</p>\n",
    "<p style=\"font-size: 90%;\">NOTE: 2, 3, 5, and 7 are not considered to be truncatable primes.</p>"
   ]
  },
  {
   "cell_type": "code",
   "execution_count": 1,
   "id": "d2620b44-012d-494b-9a47-2f34fab73855",
   "metadata": {},
   "outputs": [],
   "source": [
    "from eulerlib import prime_sieve\n",
    "\n",
    "\n",
    "def is_truncatable(prime, array_of_primes):\n",
    "    s = str(prime)\n",
    "    len_s = len(s)\n",
    "    # Can't be a single digit number.\n",
    "    if len_s == 1:\n",
    "        return False\n",
    "    # Having an even number other than 2 will eventually create a non-prime.\n",
    "    if \"0\" in s or \"4\" in s or \"6\" in s or \"8\" in s:\n",
    "        return False\n",
    "    # If the number has a 2 or 5 anywhere other than the first digit, it \n",
    "    # will be composite when truncated.\n",
    "    if \"2\" in s:\n",
    "        if \"2\" in s[1:]:\n",
    "            return False\n",
    "    elif \"5\" in s:\n",
    "        if \"5\" in s[1:]:\n",
    "            return False\n",
    "    # As long as the number doesn't begin or end with 1 or 9, it could be prime when truncated.\n",
    "    elif \"1\" in s:\n",
    "        if s.index(\"1\") == 0 or s[-1] == \"1\":\n",
    "            return False\n",
    "    elif \"9\" in s:\n",
    "        if s.index(\"9\") == 0 or s[-1] == \"9\":\n",
    "            return False\n",
    "    \n",
    "    for i in range(1, len_s):\n",
    "        if (int(s[i:]) not in array_of_primes\n",
    "            or int(s[:i]) not in array_of_primes):\n",
    "            return False\n",
    "    \n",
    "    return True"
   ]
  },
  {
   "cell_type": "code",
   "execution_count": 2,
   "id": "387fa3ff-1d6d-4f2f-947f-4fc2ae2f97b1",
   "metadata": {},
   "outputs": [],
   "source": [
    "primes = prime_sieve(int(1e6))\n",
    "truncatable_primes = []\n",
    "for n in primes:\n",
    "    if is_truncatable(n, primes):\n",
    "        truncatable_primes.append(n)"
   ]
  },
  {
   "cell_type": "code",
   "execution_count": 3,
   "id": "136b511e-e5cf-474e-b068-02c09cc0e407",
   "metadata": {},
   "outputs": [
    {
     "name": "stdout",
     "output_type": "stream",
     "text": [
      "Number of truncatable primes: 11\n",
      "Truncatable primes: [23, 37, 53, 73, 313, 317, 373, 797, 3137, 3797, 739397]\n",
      "Sum of truncatable primes: 748317\n"
     ]
    }
   ],
   "source": [
    "print(\"Number of truncatable primes:\", len(truncatable_primes))\n",
    "print(\"Truncatable primes:\", truncatable_primes)\n",
    "print(\"Sum of truncatable primes:\", sum(truncatable_primes))"
   ]
  },
  {
   "cell_type": "code",
   "execution_count": 4,
   "id": "ab497ffe-7b25-42b8-b535-838988761f56",
   "metadata": {},
   "outputs": [
    {
     "name": "stdout",
     "output_type": "stream",
     "text": [
      "1.62 s ± 15 ms per loop (mean ± std. dev. of 7 runs, 1 loop each)\n"
     ]
    }
   ],
   "source": [
    "%%timeit \n",
    "primes = prime_sieve(int(1e6))\n",
    "truncatable_primes = []\n",
    "for n in primes:\n",
    "    if is_truncatable(n, primes):\n",
    "        truncatable_primes.append(n)"
   ]
  }
 ],
 "metadata": {
  "kernelspec": {
   "display_name": "Python 3 (ipykernel)",
   "language": "python",
   "name": "python3"
  },
  "language_info": {
   "codemirror_mode": {
    "name": "ipython",
    "version": 3
   },
   "file_extension": ".py",
   "mimetype": "text/x-python",
   "name": "python",
   "nbconvert_exporter": "python",
   "pygments_lexer": "ipython3",
   "version": "3.10.0"
  }
 },
 "nbformat": 4,
 "nbformat_minor": 5
}
