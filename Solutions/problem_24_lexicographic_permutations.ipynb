{
 "cells": [
  {
   "cell_type": "markdown",
   "id": "49b1af96-9985-4e49-8a37-afef4e6240ac",
   "metadata": {},
   "source": [
    "# Project Euler\n",
    "## Problem 24\n",
    "### Lexicographic permutations\n",
    "\n",
    "A permutation is an ordered arrangement of objects. For example, 3124 is one possible permutation of the digits 1, 2, 3 and 4. If all of the permutations are listed numerically or alphabetically, we call it lexicographic order. The lexicographic permutations of 0, 1 and 2 are:\n",
    "\n",
    "012   021   102   120   201   210\n",
    "\n",
    "What is the millionth lexicographic permutation of the digits 0, 1, 2, 3, 4, 5, 6, 7, 8 and 9?"
   ]
  },
  {
   "cell_type": "markdown",
   "id": "80c1ca1f-d4a8-41ab-9a68-2c2f4ad3a227",
   "metadata": {},
   "source": [
    "### Solution\n",
    "\n",
    "Instead of finding all the permutations, sorting them, and returning the\n",
    "millionth number, I worked it backwards. I knew that since there are $10!$\n",
    "permutations, then, when sorted in order, the first $9!$ permutations would\n",
    "start with 0, the next $9!$ would start with 1, and so on. So, the trick was\n",
    "figuring out which set of permutations the millionth one was in based on its\n",
    "leading number. This is done by floor dividing the index value of the\n",
    "permutation (in this case, one million minus one) and using the answer as the\n",
    "first index of the digits `0123456789`. In this case, $floor{(\\frac{999,999}{9!})} = 2$,\n",
    "so the first digit is the one at index 2 (which is 2). I then subtracted the\n",
    "permutation index ($999,999$) by the digit index ($2$) times $9!$ to get the \n",
    "remaining number of permutations. I also removed the digit 2 from the available\n",
    "digits remaining so as not to use a digit more than once. I repeated this \n",
    "process for each new number of permutations and the next lowest factorial\n",
    "($8!$ for the next loop). Once the number of remaining permutations reached \n",
    "$0$, I padded the indices with zeroes until there were 10 indices. I then \n",
    "went through the digits in order from 0 to 9 with each index and added it\n",
    "to the number until I got the millionth permutation."
   ]
  },
  {
   "cell_type": "code",
   "execution_count": 1,
   "id": "a71773de-9f71-4951-b026-5eb4a25e7771",
   "metadata": {},
   "outputs": [],
   "source": [
    "import math"
   ]
  },
  {
   "cell_type": "code",
   "execution_count": 2,
   "id": "776f8bf5-fb93-4b79-ab61-9e78da4846d0",
   "metadata": {},
   "outputs": [],
   "source": [
    "indices = []\n",
    "n = int(1e6-1)\n",
    "i = 9\n",
    "while n > 0:\n",
    "    i_factorial = math.factorial(i)\n",
    "    index = n // i_factorial\n",
    "    indices.append(index)\n",
    "    n -= index*i_factorial\n",
    "    i -= 1\n",
    "if len(indices) < 10:\n",
    "    while len(indices) < 10:\n",
    "        indices.append(0)"
   ]
  },
  {
   "cell_type": "code",
   "execution_count": 3,
   "id": "03fb91d2-062a-43ef-9ea0-718ed12ed89d",
   "metadata": {},
   "outputs": [
    {
     "name": "stdout",
     "output_type": "stream",
     "text": [
      "2783915460\n"
     ]
    }
   ],
   "source": [
    "digits = [str(i) for i in range(10)]\n",
    "number = []\n",
    "for i in indices:\n",
    "    number.append(digits.pop(i))\n",
    "print(\"\".join(number))"
   ]
  }
 ],
 "metadata": {
  "kernelspec": {
   "display_name": "Python 3",
   "language": "python",
   "name": "python3"
  },
  "language_info": {
   "codemirror_mode": {
    "name": "ipython",
    "version": 3
   },
   "file_extension": ".py",
   "mimetype": "text/x-python",
   "name": "python",
   "nbconvert_exporter": "python",
   "pygments_lexer": "ipython3",
   "version": "3.8.10"
  }
 },
 "nbformat": 4,
 "nbformat_minor": 5
}
