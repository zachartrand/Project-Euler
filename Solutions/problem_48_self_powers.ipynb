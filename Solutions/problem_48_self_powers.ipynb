{
 "cells": [
  {
   "cell_type": "markdown",
   "id": "28587865-cee5-405f-9397-80caaa38afd7",
   "metadata": {},
   "source": [
    "# Project Euler\n",
    "## Problem 48\n",
    "### Self powers\n",
    "\n",
    "<p>The series, 1<sup>1</sup> + 2<sup>2</sup> + 3<sup>3</sup> + ... + 10<sup>10</sup> = 10405071317.</p>\n",
    "<p>Find the last ten digits of the series, 1<sup>1</sup> + 2<sup>2</sup> + 3<sup>3</sup> + ... + 1000<sup>1000</sup>.</p>"
   ]
  },
  {
   "cell_type": "markdown",
   "id": "305a019b-bee3-46de-a9da-b63946ee3a4d",
   "metadata": {},
   "source": [
    "### Solution\n",
    "\n",
    "Python's built-in `pow` function can do modular exponentiation very quickly.\n",
    "Since we only need the last 10 digits of the sum, we can find the sum of each\n",
    "term modulo 10<sup>10</sup>. This runs in well under a second:"
   ]
  },
  {
   "cell_type": "code",
   "execution_count": 1,
   "id": "880a65c9-e2d0-4e6d-86c5-fe30c4f67be7",
   "metadata": {},
   "outputs": [
    {
     "data": {
      "text/plain": [
       "9110846700"
      ]
     },
     "execution_count": 1,
     "metadata": {},
     "output_type": "execute_result"
    }
   ],
   "source": [
    "limit = int(1e10)\n",
    "sum([pow(i, i, limit) for i in range(1, 1001)]) % limit"
   ]
  }
 ],
 "metadata": {
  "kernelspec": {
   "display_name": "Python 3 (ipykernel)",
   "language": "python",
   "name": "python3"
  },
  "language_info": {
   "codemirror_mode": {
    "name": "ipython",
    "version": 3
   },
   "file_extension": ".py",
   "mimetype": "text/x-python",
   "name": "python",
   "nbconvert_exporter": "python",
   "pygments_lexer": "ipython3",
   "version": "3.10.0"
  }
 },
 "nbformat": 4,
 "nbformat_minor": 5
}
