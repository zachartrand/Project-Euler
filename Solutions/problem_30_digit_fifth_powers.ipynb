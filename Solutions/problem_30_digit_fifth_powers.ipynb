{
 "cells": [
  {
   "cell_type": "markdown",
   "id": "849362a5-950a-463d-819b-e78d24f55856",
   "metadata": {},
   "source": [
    "# Project Euler\n",
    "## Problem 30\n",
    "### Digit fifth powers"
   ]
  },
  {
   "cell_type": "markdown",
   "id": "dab40aa5-f905-4a19-a060-5683fbd2be08",
   "metadata": {},
   "source": [
    "<p>Surprisingly there are only three numbers that can be written as the sum of fourth powers of their digits:</p>\n",
    "<blockquote>1634 = 1<sup>4</sup> + 6<sup>4</sup> + 3<sup>4</sup> + 4<sup>4</sup><br />\n",
    "8208 = 8<sup>4</sup> + 2<sup>4</sup> + 0<sup>4</sup> + 8<sup>4</sup><br />\n",
    "9474 = 9<sup>4</sup> + 4<sup>4</sup> + 7<sup>4</sup> + 4<sup>4</sup></blockquote>\n",
    "<p class=\"smaller\">As 1 = 1<sup>4</sup> is not a sum it is not included.</p>\n",
    "<p>The sum of these numbers is 1634 + 8208 + 9474 = 19316.</p>\n",
    "<p>Find the sum of all the numbers that can be written as the sum of fifth powers of their digits.</p>"
   ]
  },
  {
   "cell_type": "markdown",
   "id": "bb1678f1-d712-4d63-9946-b3bd86c11327",
   "metadata": {},
   "source": [
    "### Solution\n",
    "First we need to figure out the maximum number of digits that a number could\n",
    "be to fit the criteria of the problem."
   ]
  },
  {
   "cell_type": "code",
   "execution_count": 1,
   "id": "84c3fa87-ca92-4a68-b953-d47d0089a13b",
   "metadata": {},
   "outputs": [
    {
     "name": "stdout",
     "output_type": "stream",
     "text": [
      "6\n"
     ]
    }
   ],
   "source": [
    "for i in range(1, 10):\n",
    "    max_number = i * 9**5\n",
    "    if len(str(max_number)) == i:\n",
    "        max_digits = i\n",
    "print(max_digits)"
   ]
  },
  {
   "cell_type": "markdown",
   "id": "12525f31-acc5-4325-8085-321bec270dec",
   "metadata": {},
   "source": [
    "Next, find all the sums of the fifth powers of all single digit numbers and\n",
    "for each one, see if the digits match the ones whose fifth powers add up to it."
   ]
  },
  {
   "cell_type": "code",
   "execution_count": 2,
   "id": "6d2d0466-b6cb-4567-8048-1f195d46ca0e",
   "metadata": {},
   "outputs": [],
   "source": [
    "fifth_powers = []\n",
    "for i1 in range(10):\n",
    "    for i2 in range(i1, 10):\n",
    "        for i3 in range(i2, 10):\n",
    "            for i4 in range(i3, 10):\n",
    "                for i5 in range(i4, 10):\n",
    "                    for i6 in range(i5, 10):\n",
    "                        fifth_power_sum = i1**5 + i2**5 + i3**5 + i4**5 + i5**5 + i6**5\n",
    "                        digits = [int(d) for d in str(fifth_power_sum)]\n",
    "                        while len(digits) < 6:\n",
    "                            digits.append(0)\n",
    "                        digits.sort()\n",
    "                        if digits == [i1, i2, i3, i4, i5, i6]:\n",
    "                            fifth_powers.append(fifth_power_sum)"
   ]
  },
  {
   "cell_type": "code",
   "execution_count": 3,
   "id": "6f7f9241-6cb7-4bdd-8131-4e284707b21e",
   "metadata": {},
   "outputs": [
    {
     "name": "stdout",
     "output_type": "stream",
     "text": [
      "[0, 1, 4150, 4151, 93084, 92727, 54748, 194979]\n"
     ]
    }
   ],
   "source": [
    "print(fifth_powers)"
   ]
  },
  {
   "cell_type": "markdown",
   "id": "6e4dd8f6-5ddd-42d6-9f71-520f84897cf7",
   "metadata": {},
   "source": [
    "The problem tells us that 1 doesn't count, so remove that from the sum."
   ]
  },
  {
   "cell_type": "code",
   "execution_count": 4,
   "id": "161068a1-bb28-4a9e-982c-b2464090025a",
   "metadata": {},
   "outputs": [
    {
     "data": {
      "text/plain": [
       "443839"
      ]
     },
     "execution_count": 4,
     "metadata": {},
     "output_type": "execute_result"
    }
   ],
   "source": [
    "sum(fifth_powers) - 1"
   ]
  }
 ],
 "metadata": {
  "kernelspec": {
   "display_name": "Python 3",
   "language": "python",
   "name": "python3"
  },
  "language_info": {
   "codemirror_mode": {
    "name": "ipython",
    "version": 3
   },
   "file_extension": ".py",
   "mimetype": "text/x-python",
   "name": "python",
   "nbconvert_exporter": "python",
   "pygments_lexer": "ipython3",
   "version": "3.8.10"
  }
 },
 "nbformat": 4,
 "nbformat_minor": 5
}
