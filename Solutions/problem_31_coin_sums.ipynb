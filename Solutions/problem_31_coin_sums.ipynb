{
 "cells": [
  {
   "cell_type": "markdown",
   "id": "cf71c81f-8dc7-4a78-b8cc-6ca29e6bb139",
   "metadata": {},
   "source": [
    "# Project Euler\n",
    "## [Problem 31](https://projecteuler.net/problem=31)\n",
    "### Coin sums"
   ]
  },
  {
   "cell_type": "markdown",
   "id": "e622708c-285b-465b-b52e-8e100efb02c0",
   "metadata": {},
   "source": [
    "<p>In the United Kingdom the currency is made up of pound (£) and pence (p). There are eight coins in general circulation:</p>\n",
    "<blockquote>1p, 2p, 5p, 10p, 20p, 50p, £1 (100p), and £2 (200p).</blockquote>\n",
    "<p>It is possible to make £2 in the following way:</p>\n",
    "<blockquote>1×£1 + 1×50p + 2×20p + 1×5p + 1×2p + 3×1p</blockquote>\n",
    "<p>How many different ways can £2 be made using any number of coins?</p>"
   ]
  },
  {
   "cell_type": "markdown",
   "id": "2d49e187-dccc-41af-9799-b1bba67fc071",
   "metadata": {},
   "source": [
    "### Solution\n",
    "I found a YouTube video explaining how to solve the general problem here:\n",
    "\n",
    "> [Coin Change Problem Number of ways to get total | Dynamic Programming | Algorithms](https://www.youtube.com/watch?v=L27_JpN6Z1Q)\n",
    "\n",
    "I then applied it to this problem."
   ]
  },
  {
   "cell_type": "code",
   "execution_count": 1,
   "id": "cff83f87-13e4-48af-a0f1-aa92c346ac48",
   "metadata": {},
   "outputs": [],
   "source": [
    "UK_COINS = (1, 2, 5, 10, 20, 50, 100, 200)"
   ]
  },
  {
   "cell_type": "code",
   "execution_count": 2,
   "id": "7be04a5e-4930-4672-a8d2-2e4034250f0b",
   "metadata": {},
   "outputs": [],
   "source": [
    "def coin_combo_array(coins: list, total: int):\n",
    "    \"\"\"\n",
    "    Create an array of the number of possible ways to represent\n",
    "    a value with coin denominations for all values from 0 to total.\n",
    "    \"\"\"\n",
    "    coin_combos =  [[0 for coin in coins] for i in range(total+1)]\n",
    "    for amount in range(total+1):\n",
    "        for i, coin_value in enumerate(coins):\n",
    "            if amount == 0:\n",
    "                coin_combos[amount][i] = 1\n",
    "            elif coin_value == 1:\n",
    "                coin_combos[amount][i] = 1\n",
    "            elif i == 0:\n",
    "                if (amount % coin_value) == 0:\n",
    "                    coin_combos[amount][i] = 1\n",
    "                else:\n",
    "                    coin_combos[amount][i] = 0                    \n",
    "            elif total < coin_value:\n",
    "                coin_combos[amount][i] = coin_combos[amount][i-1]\n",
    "            else:\n",
    "                coin_combos[amount][i] = coin_combos[amount][i-1] + coin_combos[amount-coin_value][i]\n",
    "    \n",
    "    return coin_combos\n",
    "\n",
    "\n",
    "def coin_combinations(coins: list, total: int):\n",
    "    \"\"\"\n",
    "    Return the number of ways to represent total with numeric denominations\n",
    "    given by coins.\n",
    "    \"\"\"\n",
    "    return coin_combo_array(coins, total)[-1][-1]"
   ]
  },
  {
   "cell_type": "code",
   "execution_count": 3,
   "id": "d995c836-b371-440c-baa5-a3c17721a6a0",
   "metadata": {},
   "outputs": [
    {
     "data": {
      "text/plain": [
       "73682"
      ]
     },
     "execution_count": 3,
     "metadata": {},
     "output_type": "execute_result"
    }
   ],
   "source": [
    "coin_combinations(UK_COINS, 200)"
   ]
  },
  {
   "cell_type": "markdown",
   "id": "59308f60-714b-4475-80e3-94704c0acbdb",
   "metadata": {},
   "source": [
    "For fun, I ran this problem with US currency and found the combinations of ways to make \\$1.00."
   ]
  },
  {
   "cell_type": "code",
   "execution_count": 4,
   "id": "346ed763-9cb7-41db-bf4b-19e5b594cbc1",
   "metadata": {},
   "outputs": [
    {
     "name": "stdout",
     "output_type": "stream",
     "text": [
      "292\n"
     ]
    }
   ],
   "source": [
    "US_COINS = (1, 5, 10, 25, 50)\n",
    "combos = coin_combinations(US_COINS, 100)\n",
    "print(combos)"
   ]
  },
  {
   "cell_type": "markdown",
   "id": "6992f5af-b6a2-41b7-a78f-19835586728e",
   "metadata": {},
   "source": [
    "Below, I tested the time it took to compute a large dollar amount to see how\n",
    "efficient the algorithm was. Try different values for the cell below to \n",
    "test both the speed of your computer and the speed of the algorithm."
   ]
  },
  {
   "cell_type": "code",
   "execution_count": 5,
   "id": "c23a0124-2925-493a-95c7-2b207be23bed",
   "metadata": {},
   "outputs": [],
   "source": [
    "from time import time\n",
    "\n",
    "US_CURRENCY = (1, 5, 10, 25, 50, 100, 200, 500, 1000, 2000, 5000, 10000)\n",
    "LARGE_TOTAL = 1000000  # $10,000.00\n",
    "\n",
    "start_time = time()\n",
    "large_dollar_combos = coin_combinations(US_CURRENCY, LARGE_TOTAL)\n",
    "end_time = time()"
   ]
  },
  {
   "cell_type": "code",
   "execution_count": 6,
   "id": "5215e2dd-8a04-45ce-8061-67100b44e6e9",
   "metadata": {},
   "outputs": [
    {
     "name": "stdout",
     "output_type": "stream",
     "text": [
      "Found the 444,253,458,330,064,869,987,757,337,916,426 combinations of $10,000.00 with US currency in 7.112 seconds.\n"
     ]
    }
   ],
   "source": [
    "print(f\"Found the {large_dollar_combos:,} combinations of ${LARGE_TOTAL//100:,.2f} \"\n",
    "      f\"with US currency in {(end_time-start_time):.3f} seconds.\")"
   ]
  },
  {
   "cell_type": "markdown",
   "id": "e045ec9a-f0f1-49c8-ae34-c1efd357e3d0",
   "metadata": {},
   "source": [
    "After reading the PDF for the solution, I found out that you can cut the\n",
    "number of calculations and shrink the array to one dimension by only\n",
    "iterating from the current coin value onward. This cut the processing time by\n",
    "1/2 for the large dollar amount. The revised functions are below."
   ]
  },
  {
   "cell_type": "code",
   "execution_count": 7,
   "id": "360a16aa-ccc7-48be-9a6e-4376d17bf8ec",
   "metadata": {},
   "outputs": [],
   "source": [
    "def coin_combo_array_fast(coins: list, total: int) -> list:\n",
    "    coin_combos = [0 for i in range(total+1)]\n",
    "    coin_combos[0] = 1\n",
    "    for coin_value in coins:\n",
    "        for amount in range(coin_value, total+1):\n",
    "            if coin_value == 1:\n",
    "                coin_combos[amount] = 1\n",
    "            else:\n",
    "                coin_combos[amount] += coin_combos[amount-coin_value]\n",
    "    \n",
    "    return coin_combos\n",
    "\n",
    "\n",
    "def coin_combinations_fast(coins, total) -> int:\n",
    "    \"\"\"\n",
    "    Return the number of ways to represent total with numeric denominations\n",
    "    given by coins.\n",
    "    \"\"\"\n",
    "    return coin_combo_array_fast(coins, total)[-1]"
   ]
  },
  {
   "cell_type": "code",
   "execution_count": 8,
   "id": "14489d73-dc69-4a5f-a5b0-b02e4f8aa0fd",
   "metadata": {},
   "outputs": [],
   "source": [
    "start_time = time()\n",
    "fast_combo = coin_combinations_fast(US_CURRENCY, LARGE_TOTAL)\n",
    "end_time = time()"
   ]
  },
  {
   "cell_type": "code",
   "execution_count": 9,
   "id": "c2b8aef5-0eec-4adf-93cc-ba1423541931",
   "metadata": {},
   "outputs": [
    {
     "name": "stdout",
     "output_type": "stream",
     "text": [
      "Found the 444,253,458,330,064,869,987,757,337,916,426 combinations of $10,000.00 with US currency in 2.441 seconds.\n"
     ]
    }
   ],
   "source": [
    "print(f\"Found the {fast_combo:,} combinations of ${LARGE_TOTAL//100:,.2f} \"\n",
    "      f\"with US currency in {(end_time-start_time):.3f} seconds.\")"
   ]
  },
  {
   "cell_type": "markdown",
   "id": "a6ef6c43-dcb9-4cad-8ddc-3bb8a865d227",
   "metadata": {},
   "source": [
    "## Similar problem: Fewest coins\n",
    "\n",
    "A problem with a similar solution is finding the way to represent an amount\n",
    "of money with the fewest denominations of currency. The solution to that\n",
    "problem is below."
   ]
  },
  {
   "cell_type": "code",
   "execution_count": 10,
   "id": "a199865a-5779-45b3-a691-836dcf459b2d",
   "metadata": {},
   "outputs": [],
   "source": [
    "def fewest_coins_array(coins: list, total: int):\n",
    "    coin_amounts =  [0 for n in range(total+1)]\n",
    "    coin_array = [0 for n in range(total+1)]\n",
    "    for coin_value in coins:\n",
    "        for amount in range(coin_value, total+1):\n",
    "            if amount == coin_value:\n",
    "                coin_amounts[amount] = 1\n",
    "                coin_array[amount] = coin_value\n",
    "            elif (amount % coin_value) == 0:\n",
    "                coin_amounts[amount] = amount // coin_value\n",
    "                coin_array[amount] = coin_value\n",
    "            else:\n",
    "                min_coins = min(coin_amounts[amount], 1 + coin_amounts[amount-coin_value])\n",
    "                if min_coins < coin_amounts[amount]:\n",
    "                    coin_amounts[amount] = min_coins\n",
    "                    coin_array[amount] = coin_value\n",
    "    \n",
    "    return coin_amounts, coin_array\n",
    "\n",
    "\n",
    "def number_of_fewest_coins(coins: list, total: int) -> int:\n",
    "    return fewest_coins_array(coins, total)[0][-1]\n",
    "\n",
    "\n",
    "def fewest_coin_values(coins: list, total: int) -> tuple:\n",
    "    coin_amounts, coin_array = fewest_coins_array(coins, total)\n",
    "    if coin_amounts[-1] == 0:\n",
    "        return (0,)  # This means it is impossible to represent total with the given coins.\n",
    "    total_in_fewest_coins = []\n",
    "    amount_left = total\n",
    "    while amount_left > 0:\n",
    "        current_coin = coin_array[amount_left]\n",
    "        while amount_left >= current_coin:\n",
    "            total_in_fewest_coins.append(current_coin)\n",
    "            amount_left -= current_coin\n",
    "    \n",
    "    total_in_fewest_coins.sort()\n",
    "    \n",
    "    return tuple(total_in_fewest_coins)"
   ]
  },
  {
   "cell_type": "markdown",
   "id": "396aaa81-9409-4e1c-a798-8773e77284f2",
   "metadata": {},
   "source": [
    "#### Example: 99 cents"
   ]
  },
  {
   "cell_type": "code",
   "execution_count": 11,
   "id": "f04f403b-7a4e-4289-9f7f-52c07a43c68e",
   "metadata": {},
   "outputs": [
    {
     "name": "stdout",
     "output_type": "stream",
     "text": [
      "Fewest coins to make 99 cents: 8\n",
      "Coin values: (1, 1, 1, 1, 10, 10, 25, 50)\n",
      "Time: 0.00099802 seconds\n"
     ]
    }
   ],
   "source": [
    "start_time = time()\n",
    "print(\"Fewest coins to make 99 cents:\", number_of_fewest_coins(US_COINS, 99))\n",
    "print(\"Coin values:\", fewest_coin_values(US_COINS, 99))\n",
    "end_time = time()\n",
    "print(\"Time:\", f\"{end_time-start_time:.5g} seconds\")"
   ]
  },
  {
   "cell_type": "markdown",
   "id": "3af10e1d-a950-472e-b05b-1edd9720eff3",
   "metadata": {},
   "source": [
    "### For fun: Least amount of coins with at least one of each coin."
   ]
  },
  {
   "cell_type": "code",
   "execution_count": 12,
   "id": "4972510f-60a1-4d09-9da4-ebcc6d2a8f8c",
   "metadata": {},
   "outputs": [],
   "source": [
    "def all_coins(coins: list, total: int) -> tuple:\n",
    "    if not isinstance(coins, list):\n",
    "        coins = list(coins)\n",
    "    coins.sort()\n",
    "    all_coins = [coin for coin in coins]\n",
    "    all_coins_sum = sum(all_coins)\n",
    "    while all_coins_sum > total:\n",
    "        largest_coin = all_coins.pop()\n",
    "        all_coins_sum -= largest_coin\n",
    "    \n",
    "    remaining = total - all_coins_sum\n",
    "    while remaining > 0:\n",
    "        for coin in reversed(coins):\n",
    "            if coin <= remaining:\n",
    "                for _ in range(remaining//coin):\n",
    "                    all_coins.append(coin)\n",
    "                    remaining -= coin\n",
    "    \n",
    "    all_coins.sort()\n",
    "    \n",
    "    return tuple(all_coins)"
   ]
  },
  {
   "cell_type": "code",
   "execution_count": 13,
   "id": "8b5a9165-b195-4891-9122-bbed65223e5c",
   "metadata": {},
   "outputs": [
    {
     "name": "stdout",
     "output_type": "stream",
     "text": [
      "(1, 1, 1, 1, 1, 5, 5, 10, 25, 50)\n"
     ]
    }
   ],
   "source": [
    "print(all_coins(US_COINS, 100))"
   ]
  }
 ],
 "metadata": {
  "kernelspec": {
   "display_name": "Python 3",
   "language": "python",
   "name": "python3"
  },
  "language_info": {
   "codemirror_mode": {
    "name": "ipython",
    "version": 3
   },
   "file_extension": ".py",
   "mimetype": "text/x-python",
   "name": "python",
   "nbconvert_exporter": "python",
   "pygments_lexer": "ipython3",
   "version": "3.8.10"
  }
 },
 "nbformat": 4,
 "nbformat_minor": 5
}
