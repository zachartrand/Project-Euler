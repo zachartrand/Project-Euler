{
 "cells": [
  {
   "cell_type": "markdown",
   "id": "16e9d9c8-1db1-4714-b855-108ac5356a08",
   "metadata": {},
   "source": [
    "# Project Euler\n",
    "## Problem 65\n",
    "### Convergents of e"
   ]
  },
  {
   "cell_type": "markdown",
   "id": "edf3deb8-1540-49fe-b946-afe59ae6ba6e",
   "metadata": {},
   "source": [
    "<p>The square root of 2 can be written as an infinite continued fraction.</p>\n",
    "<p>$\\sqrt{2} = 1 + \\dfrac{1}{2 + \\dfrac{1}{2 + \\dfrac{1}{2 + \\dfrac{1}{2 + ...}}}}$</p>\n",
    "<p>The infinite continued fraction can be written, $\\sqrt{2} = [1; (2)]$, $(2)$ indicates that 2 repeats <i>ad infinitum</i>. In a similar way, $\\sqrt{23} = [4; (1, 3, 1, 8)]$.</p>\n",
    "<p>It turns out that the sequence of partial values of continued fractions for square roots provide the best rational approximations. Let us consider the convergents for $\\sqrt{2}$.</p>\n",
    "<p>$\n",
    "1 + \\dfrac{1}{2} = \\dfrac{3}{2}\\\\\n",
    "1 + \\dfrac{1}{2 + \\dfrac{1}{2}} = \\dfrac{7}{5}\\\\\n",
    "1 + \\dfrac{1}{2 + \\dfrac{1}{2 + \\dfrac{1}{2}}} = \\dfrac{17}{12}\\\\\n",
    "1 + \\dfrac{1}{2 + \\dfrac{1}{2 + \\dfrac{1}{2 + \\dfrac{1}{2}}}} = \\dfrac{41}{29}\n",
    "$</p>\n",
    "<p>Hence the sequence of the first ten convergents for $\\sqrt{2}$ are:</p>\n",
    "<p>$1, \\dfrac{3}{2}, \\dfrac{7}{5}, \\dfrac{17}{12}, \\dfrac{41}{29}, \\dfrac{99}{70}, \\dfrac{239}{169}, \\dfrac{577}{408}, \\dfrac{1393}{985}, \\dfrac{3363}{2378}, ...$</p>\n",
    "<p>What is most surprising is that the important mathematical constant,<br />$e = [2; 1, 2, 1, 1, 4, 1, 1, 6, 1, ... , 1, 2k, 1, ...]$.</p>\n",
    "<p>The first ten terms in the sequence of convergents for <i>e</i> are:</p>\n",
    "<p>$2, 3, \\dfrac{8}{3}, \\dfrac{11}{4}, \\dfrac{19}{7}, \\dfrac{87}{32}, \\dfrac{106}{39}, \\dfrac{193}{71}, \\dfrac{1264}{465}, \\dfrac{1457}{536}, ...$</p>\n",
    "<p>The sum of digits in the numerator of the 10<sup>th</sup> convergent is $1 + 4 + 5 + 7 = 17$.</p>\n",
    "<p>Find the sum of digits in the numerator of the 100<sup>th</sup> convergent of the continued fraction for $e$.</p>"
   ]
  },
  {
   "cell_type": "markdown",
   "id": "7c6c8a0c-ed23-4e4d-87c7-46cfe0f64b1c",
   "metadata": {},
   "source": [
    "### Solution 1: Using fractions module\n",
    "\n",
    "The first method I came up with was using the Fraction class from the \n",
    "fractions module. This stores numbers as rational fractions, so it will keep \n",
    "track of the numerator and denominator while we iterate through the continued \n",
    "fraction algorithm."
   ]
  },
  {
   "cell_type": "code",
   "execution_count": 1,
   "id": "8bc54ad2-6876-484d-b385-62397a5d89c5",
   "metadata": {},
   "outputs": [],
   "source": [
    "from fractions import Fraction\n",
    "from time import time\n",
    "\n",
    "LIMIT = 100"
   ]
  },
  {
   "cell_type": "code",
   "execution_count": 2,
   "id": "7e30874d-f84c-4bb4-ae50-645e168d14b0",
   "metadata": {},
   "outputs": [
    {
     "name": "stdout",
     "output_type": "stream",
     "text": [
      "Finished in 0.002004 seconds.\n"
     ]
    }
   ],
   "source": [
    "start_time = time()\n",
    "fraction = Fraction(0, 1)\n",
    "for i in reversed(range(LIMIT-1)):\n",
    "    if i % 3 == 1:\n",
    "        n = (i//3 + 1) * 2\n",
    "    else:\n",
    "        n = 1\n",
    "    fraction = Fraction(1, n + fraction)\n",
    "\n",
    "fraction += 2\n",
    "end_time = time()\n",
    "print(f\"Finished in {end_time - start_time:.6f} seconds.\")"
   ]
  },
  {
   "cell_type": "code",
   "execution_count": 3,
   "id": "809fdb03-a0e0-4454-a8e2-3eb64b253a30",
   "metadata": {},
   "outputs": [
    {
     "data": {
      "text/plain": [
       "2.718281828459045"
      ]
     },
     "execution_count": 3,
     "metadata": {},
     "output_type": "execute_result"
    }
   ],
   "source": [
    "float(fraction)"
   ]
  },
  {
   "cell_type": "code",
   "execution_count": 4,
   "id": "854d577b-0de4-4187-b39f-a9adf79bd289",
   "metadata": {},
   "outputs": [],
   "source": [
    "numerator_sum = sum([int(digit) for digit in str(fraction.numerator)])"
   ]
  },
  {
   "cell_type": "code",
   "execution_count": 5,
   "id": "e046a809-2939-4b5a-958c-052028a0b3a8",
   "metadata": {},
   "outputs": [
    {
     "name": "stdout",
     "output_type": "stream",
     "text": [
      "272\n"
     ]
    }
   ],
   "source": [
    "print(numerator_sum)"
   ]
  },
  {
   "cell_type": "markdown",
   "id": "51b08fa2-10e8-4223-8292-d9441efe6735",
   "metadata": {},
   "source": [
    "### Solution 2: Iteratively\n",
    "\n",
    "This one finishes much faster. All you need to do is calculate the numerator\n",
    "and denominator for each iteration."
   ]
  },
  {
   "cell_type": "code",
   "execution_count": 6,
   "id": "7dfb4f92-e2fa-45cc-8aae-ba0a0fc91400",
   "metadata": {},
   "outputs": [
    {
     "name": "stdout",
     "output_type": "stream",
     "text": [
      "Finished in 0.000000000000 seconds.\n"
     ]
    }
   ],
   "source": [
    "start_time = time()\n",
    "\n",
    "\n",
    "def convergent_of_e(n):\n",
    "    numerator = 0\n",
    "    denominator = 1\n",
    "    for i in reversed(range(n)):\n",
    "        if i % 3 == 1:\n",
    "            k = 2*(i//3 + 1)\n",
    "        else:\n",
    "            k = 1\n",
    "        numerator, denominator = denominator, k*denominator + numerator\n",
    "    \n",
    "    numerator += 2*denominator\n",
    "    \n",
    "    return numerator, denominator\n",
    "\n",
    "\n",
    "n, d = convergent_of_e(LIMIT-1)\n",
    "end_time = time()\n",
    "print(f\"Finished in {end_time - start_time:.12f} seconds.\")"
   ]
  },
  {
   "cell_type": "code",
   "execution_count": 7,
   "id": "212894a9-75f3-4220-906f-42997b4b01aa",
   "metadata": {},
   "outputs": [
    {
     "name": "stdout",
     "output_type": "stream",
     "text": [
      "2.718281828459045\n"
     ]
    }
   ],
   "source": [
    "print(n/d)"
   ]
  },
  {
   "cell_type": "code",
   "execution_count": 8,
   "id": "444caa60-52de-4705-85e8-eed50c39a74f",
   "metadata": {},
   "outputs": [
    {
     "name": "stdout",
     "output_type": "stream",
     "text": [
      "272\n"
     ]
    }
   ],
   "source": [
    "numerator_sum = sum([int(digit) for digit in str(n)])\n",
    "print(numerator_sum)"
   ]
  }
 ],
 "metadata": {
  "kernelspec": {
   "display_name": "Python 3",
   "language": "python",
   "name": "python3"
  },
  "language_info": {
   "codemirror_mode": {
    "name": "ipython",
    "version": 3
   },
   "file_extension": ".py",
   "mimetype": "text/x-python",
   "name": "python",
   "nbconvert_exporter": "python",
   "pygments_lexer": "ipython3",
   "version": "3.8.10"
  }
 },
 "nbformat": 4,
 "nbformat_minor": 5
}
