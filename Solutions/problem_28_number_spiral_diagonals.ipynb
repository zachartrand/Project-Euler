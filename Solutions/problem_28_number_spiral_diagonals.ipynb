{
 "cells": [
  {
   "cell_type": "markdown",
   "id": "a8ce5e24-d512-4541-bed8-65f7714a6ef3",
   "metadata": {},
   "source": [
    "# Project Euler\n",
    "## Problem 28\n",
    "### Number spiral diagonals"
   ]
  },
  {
   "cell_type": "markdown",
   "id": "cb0a9b93-2cc9-4df8-86d2-0ed492d2b446",
   "metadata": {},
   "source": [
    "<p>Starting with the number 1 and moving to the right in a clockwise direction a 5 by 5 spiral is formed as follows:</p>\n",
    "<br>\n",
    "<center>\n",
    "  <span style=\"color:#c00; font-weight:bold\">21</span> 22 23 24 <span style=\"color:#c00; font-weight:bold\">25</span><br>\n",
    "  20  <span style=\"color:#c00; font-weight:bold\">07</span>  08  <span style=\"color:#c00; font-weight:bold\">09</span> 10<br>\n",
    "  19  06  <span style=\"color:#c00; font-weight:bold\">01</span> 02 11<br>\n",
    "  18  <span style=\"color:#c00; font-weight:bold\">05</span>  04  <span style=\"color:#c00; font-weight:bold\">03</span> 12<br>\n",
    "  <span style=\"color:#c00; font-weight:bold\">17</span> 16 15 14 <span style=\"color:#c00; font-weight:bold\">13</span>\n",
    "</center>\n",
    "<br>\n",
    "<p>It can be verified that the sum of the numbers on the diagonals is 101.</p>\n",
    "<p>What is the sum of the numbers on the diagonals in a 1001 by 1001 spiral formed in the same way?</p>"
   ]
  },
  {
   "cell_type": "markdown",
   "id": "7f2ab4ca-bcbc-4172-b747-8899ea3436c6",
   "metadata": {},
   "source": [
    "### Solution 1: Brute force\n",
    "My first solution was to take all the numbers from 1 to 1001<sup>2</sup> and\n",
    "place them in an array in a spiral shown by the problem. Then, pull the values\n",
    "on the diagonal and sum them up:"
   ]
  },
  {
   "cell_type": "code",
   "execution_count": 1,
   "id": "4f4ec20b-4bc1-481f-9a25-7b2601719410",
   "metadata": {},
   "outputs": [],
   "source": [
    "DIRECTIONS = ((0, -1), (1, 0), (0, 1), (-1, 0))  # Left, Down, Right, Up\n",
    "SQUARE_SIDE = 1001\n",
    "NUMBERS = [i+1 for i in reversed(range(SQUARE_SIDE**2))]"
   ]
  },
  {
   "cell_type": "code",
   "execution_count": 2,
   "id": "b3332143-1a4c-4213-bf1c-80fcc3f18ffa",
   "metadata": {},
   "outputs": [],
   "source": [
    "def make_spiral(iterable):\n",
    "    side_length = int(len(iterable)**0.5)\n",
    "    spiral_array = [[0 for i in range(side_length)] for j in range(side_length)]\n",
    "    x = 0\n",
    "    y = side_length - 1\n",
    "    direction = 0\n",
    "    dx, dy = DIRECTIONS[direction]\n",
    "    for value in iterable:\n",
    "        spiral_array[x][y] = value\n",
    "        x += dx\n",
    "        y += dy\n",
    "        if ((x < 0 or x >= side_length) or (y < 0 or y >= side_length) or spiral_array[x][y] != 0):\n",
    "            x -= dx\n",
    "            y -= dy\n",
    "            direction +=1\n",
    "            direction %= 4\n",
    "            dx, dy = DIRECTIONS[direction]\n",
    "            x += dx\n",
    "            y += dy\n",
    "    \n",
    "    return spiral_array"
   ]
  },
  {
   "cell_type": "code",
   "execution_count": 3,
   "id": "480abc80-720e-4020-9ab7-ef33322198d4",
   "metadata": {},
   "outputs": [],
   "source": [
    "s = make_spiral(NUMBERS)"
   ]
  },
  {
   "cell_type": "code",
   "execution_count": 4,
   "id": "45424912-aef0-4617-b7b3-f722b780eb28",
   "metadata": {},
   "outputs": [
    {
     "name": "stdout",
     "output_type": "stream",
     "text": [
      "669171001\n"
     ]
    }
   ],
   "source": [
    "diagonal_values = []\n",
    "for i in range(1001):\n",
    "    diagonal_values.append(s[i][i])\n",
    "for i in range(1001):\n",
    "    diagonal_values.append(s[i][1000-i])\n",
    "print(sum(diagonal_values) - 1)"
   ]
  },
  {
   "cell_type": "markdown",
   "id": "e0be2f48-365b-437b-8f8e-1bb8216205f1",
   "metadata": {},
   "source": [
    "### Solution 2: Quadratic pattern\n",
    "The solution thread for this problem shows how blind I can be sometimes.\n",
    "If you look at the values in the diagonal going to the upper-right, you may\n",
    "notice that the values are all of the odd numbers squared (1, 9, 25, etc.).\n",
    "So the upper right diagonal can be represented as \n",
    "\n",
    "> $(2n+1)^2$ with $0 \\le n \\le 500$"
   ]
  },
  {
   "cell_type": "markdown",
   "id": "76762c48-b9c3-47f3-b9fc-42e8214dae1c",
   "metadata": {},
   "source": [
    "The lower left diagonal can be expressed as\n",
    "\n",
    "> $(2n)^2 + 1$ with $1 \\le n \\le 500$"
   ]
  },
  {
   "cell_type": "markdown",
   "id": "a9816921-d15f-478b-a0c6-cefd4d011ef2",
   "metadata": {},
   "source": [
    "The upper left diagonal is\n",
    "\n",
    "> $(2n)^2 + 2n + 1$ with $1 \\le n \\le 500$"
   ]
  },
  {
   "cell_type": "markdown",
   "id": "50fe47a7-09a6-4401-814d-f8de7aa81f30",
   "metadata": {},
   "source": [
    "And the lower right diagonal is \n",
    "\n",
    "> $(2n)^2 - 2n + 1$ with $1 \\le n \\le 500$"
   ]
  },
  {
   "cell_type": "code",
   "execution_count": 5,
   "id": "6c2739c2-3287-4c11-97df-95f7ca6a91e8",
   "metadata": {},
   "outputs": [
    {
     "name": "stdout",
     "output_type": "stream",
     "text": [
      "669171001\n"
     ]
    }
   ],
   "source": [
    "upper_right_sum = sum([(2*n+1)**2 for n in range(501)])\n",
    "lower_left_sum = sum([(2*n)**2 + 1 for n in range(1, 501)])\n",
    "lower_right_sum = sum([(2*n)**2 - (2*n-1) for n in range(1, 501)])\n",
    "upper_left_sum = sum([(2*n)**2 + 2*n + 1 for n in range(1, 501)])\n",
    "print(sum([upper_left_sum, upper_right_sum, lower_right_sum, lower_left_sum]))"
   ]
  }
 ],
 "metadata": {
  "kernelspec": {
   "display_name": "Python 3",
   "language": "python",
   "name": "python3"
  },
  "language_info": {
   "codemirror_mode": {
    "name": "ipython",
    "version": 3
   },
   "file_extension": ".py",
   "mimetype": "text/x-python",
   "name": "python",
   "nbconvert_exporter": "python",
   "pygments_lexer": "ipython3",
   "version": "3.8.10"
  }
 },
 "nbformat": 4,
 "nbformat_minor": 5
}
