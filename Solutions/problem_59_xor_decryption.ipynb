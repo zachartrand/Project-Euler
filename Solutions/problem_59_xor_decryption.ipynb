{
 "cells": [
  {
   "cell_type": "markdown",
   "id": "e77e75fa-5720-4cdf-be5f-3ab2ffa607a3",
   "metadata": {},
   "source": [
    "# Project Euler\n",
    "## Problem 59\n",
    "### XOR decryption"
   ]
  },
  {
   "cell_type": "markdown",
   "id": "d43ea603-367a-4c4f-a9d7-3d0f1eca6a56",
   "metadata": {},
   "source": [
    "<p>Each character on a computer is assigned a unique code and the preferred standard is ASCII (American Standard Code for Information Interchange). For example, uppercase A = 65, asterisk (*) = 42, and lowercase k = 107.</p>\n",
    "<p>A modern encryption method is to take a text file, convert the bytes to ASCII, then XOR each byte with a given value, taken from a secret key. The advantage with the XOR function is that using the same encryption key on the cipher text, restores the plain text; for example, 65 XOR 42 = 107, then 107 XOR 42 = 65.</p>\n",
    "<p>For unbreakable encryption, the key is the same length as the plain text message, and the key is made up of random bytes. The user would keep the encrypted message and the encryption key in different locations, and without both \"halves\", it is impossible to decrypt the message.</p>\n",
    "<p>Unfortunately, this method is impractical for most users, so the modified method is to use a password as a key. If the password is shorter than the message, which is likely, the key is repeated cyclically throughout the message. The balance for this method is using a sufficiently long password key for security, but short enough to be memorable.</p>\n",
    "<p>Your task has been made easy, as the encryption key consists of three lower case characters. Using <a href=\"https://projecteuler.net/project/resources/p059_cipher.txt\">p059_cipher.txt</a> (right click and 'Save Link/Target As...'), a file containing the encrypted ASCII codes, and the knowledge that the plain text must contain common English words, decrypt the message and find the sum of the ASCII values in the original text.</p>"
   ]
  },
  {
   "cell_type": "markdown",
   "id": "4b4b0544-c6e8-4ff1-927f-68303c22418a",
   "metadata": {},
   "source": [
    "### Solution\n",
    "\n",
    "The first step is to convert the text in the text file into a Python-readable\n",
    "datatype. I decided to convert the text into a list of integers:"
   ]
  },
  {
   "cell_type": "code",
   "execution_count": 1,
   "id": "aaa03d72-6a89-455e-9c8e-f82e2a512355",
   "metadata": {},
   "outputs": [],
   "source": [
    "file_name = \"p059_cipher.txt\"\n",
    "with open(file_name, \"r\") as file:\n",
    "    text = file.read()\n",
    "\n",
    "text = text.split(\",\")\n",
    "char_list = []\n",
    "for char in text:\n",
    "    char_list.append(int(char))"
   ]
  },
  {
   "cell_type": "markdown",
   "id": "fdc29f86-6a30-489e-8401-d6ca116234bf",
   "metadata": {},
   "source": [
    "Looking at the text file, the numbers 88 and 80 show up very frequently, and\n",
    "their appearances seem to be periodic. I deduced that these characters were\n",
    "spaces. To make sure they were appearing frequently and I wasn't tricking\n",
    "myself, I got a count of each number in the list:"
   ]
  },
  {
   "cell_type": "code",
   "execution_count": 2,
   "id": "f46595ff-0127-47af-8f7a-5d450e1a0696",
   "metadata": {},
   "outputs": [
    {
     "name": "stdout",
     "output_type": "stream",
     "text": [
      "{80: 107,\n",
      " 69: 86,\n",
      " 88: 77,\n",
      " 0: 75,\n",
      " 17: 73,\n",
      " 29: 70,\n",
      " 21: 65,\n",
      " 12: 65,\n",
      " 4: 61,\n",
      " 22: 56,\n",
      " 10: 52,\n",
      " 23: 46,\n",
      " 11: 43,\n",
      " 25: 42,\n",
      " 16: 38,\n",
      " 3: 36,\n",
      " 13: 33,\n",
      " 2: 31,\n",
      " 30: 26,\n",
      " 28: 25,\n",
      " 8: 25,\n",
      " 31: 24,\n",
      " 20: 22,\n",
      " 19: 21,\n",
      " 24: 21,\n",
      " 9: 20,\n",
      " 1: 19,\n",
      " 84: 16,\n",
      " 5: 15,\n",
      " 6: 11,\n",
      " 18: 11,\n",
      " 27: 10,\n",
      " 7: 9,\n",
      " 65: 9,\n",
      " 87: 9,\n",
      " 83: 8,\n",
      " 73: 7,\n",
      " 26: 7,\n",
      " 70: 7,\n",
      " 92: 6,\n",
      " 67: 5,\n",
      " 75: 5,\n",
      " 86: 4,\n",
      " 94: 4,\n",
      " 81: 4,\n",
      " 68: 3,\n",
      " 78: 3,\n",
      " 72: 3,\n",
      " 64: 3,\n",
      " 77: 3,\n",
      " 49: 3,\n",
      " 36: 2,\n",
      " 66: 2,\n",
      " 82: 2,\n",
      " 35: 2,\n",
      " 95: 2,\n",
      " 91: 2,\n",
      " 15: 2,\n",
      " 44: 2,\n",
      " 14: 2,\n",
      " 76: 2,\n",
      " 74: 2,\n",
      " 61: 1,\n",
      " 71: 1,\n",
      " 60: 1,\n",
      " 63: 1,\n",
      " 45: 1,\n",
      " 57: 1,\n",
      " 54: 1,\n",
      " 62: 1,\n",
      " 89: 1}\n"
     ]
    }
   ],
   "source": [
    "from pprint import pprint\n",
    "\n",
    "counts = {}\n",
    "for number in char_list:\n",
    "    counts.setdefault(number, 0)\n",
    "    counts[number] += 1\n",
    "sorted_counts = sorted(counts.items(), key=lambda item: item[1], reverse=True)\n",
    "counts = dict(sorted_counts)\n",
    "pprint(counts, sort_dicts=False)"
   ]
  },
  {
   "cell_type": "markdown",
   "id": "d73a9997-4972-440e-8766-04baf58fa305",
   "metadata": {},
   "source": [
    "Characters 80, 69, and 88 are the most frequent numbers. If they are all the \n",
    "same character, then their positions in the list should be constant mod 3 \n",
    "(since the key is 3 characters long). If we look at their positions mod 3, \n",
    "we can see that this is true, save for a few outliers:"
   ]
  },
  {
   "cell_type": "code",
   "execution_count": 3,
   "id": "0d44043a-2c5a-471b-9d64-cec013a95ae1",
   "metadata": {},
   "outputs": [
    {
     "name": "stdout",
     "output_type": "stream",
     "text": [
      "2 2 2 2 2 2 2 2 2 2 2 2 2 2 2 2 2 2 2 2 2 2 2 2 2 2 2 2 2 2 2 2 2 2 2 2 2 2 2 2 2 2 2 2 2 2 2 2 1 2 2 2 2 2 2 2 2 2 2 2 2 2 2 2 2 2 2 0 0 2 2 2 2 2 2 2 2 2 2 2 2 2 2 2 2 2 2 2 2 2 2 2 2 1 2 2 2 2 2 2 2 2 2 2 2 2 2 "
     ]
    }
   ],
   "source": [
    "for i, char in enumerate(char_list):\n",
    "    if char == 80:\n",
    "        print(i % 3, end=' ')"
   ]
  },
  {
   "cell_type": "code",
   "execution_count": 4,
   "id": "c7239bf0-fc80-422f-9d05-456e8353f320",
   "metadata": {},
   "outputs": [
    {
     "name": "stdout",
     "output_type": "stream",
     "text": [
      "0 0 0 0 0 0 0 0 0 0 0 0 0 0 0 0 0 0 0 0 0 0 0 0 0 0 0 0 0 0 0 0 0 0 0 0 0 0 0 0 0 0 0 0 0 0 0 0 0 0 0 0 0 0 0 0 0 0 0 0 0 0 0 0 0 0 0 0 0 0 0 0 0 0 0 0 0 0 0 0 0 0 0 0 0 0 "
     ]
    }
   ],
   "source": [
    "for i, char in enumerate(char_list):\n",
    "    if char == 69:\n",
    "        print(i % 3, end=' ')"
   ]
  },
  {
   "cell_type": "code",
   "execution_count": 5,
   "id": "40d0c4fd-a42e-451b-afda-7706d6126ec2",
   "metadata": {},
   "outputs": [
    {
     "name": "stdout",
     "output_type": "stream",
     "text": [
      "1 1 1 1 1 1 1 1 1 1 1 1 1 1 1 1 1 1 1 1 1 1 1 1 1 1 1 1 1 1 1 1 1 1 1 1 1 1 1 1 1 1 1 1 1 1 1 1 1 1 1 1 1 1 1 1 1 1 1 1 1 1 1 1 1 1 1 1 1 1 1 1 1 1 1 1 1 "
     ]
    }
   ],
   "source": [
    "for i, char in enumerate(char_list):\n",
    "    if char == 88:\n",
    "        print(i % 3, end=' ')"
   ]
  },
  {
   "cell_type": "markdown",
   "id": "41155b84-b1f9-4232-9d11-2c4afa8e9b9b",
   "metadata": {},
   "source": [
    "Since the most common character is likely to be the space character, we can\n",
    "take the ascii number of the space character and XOR it with 69, 88, and 80, \n",
    "in that order, to get the key of this message."
   ]
  },
  {
   "cell_type": "code",
   "execution_count": 6,
   "id": "f960ba29-f206-482f-af28-792fdecdbb0a",
   "metadata": {},
   "outputs": [
    {
     "data": {
      "text/plain": [
       "32"
      ]
     },
     "execution_count": 6,
     "metadata": {},
     "output_type": "execute_result"
    }
   ],
   "source": [
    "ord(\" \")"
   ]
  },
  {
   "cell_type": "code",
   "execution_count": 7,
   "id": "64a76af5-767a-4510-af91-3abddd761685",
   "metadata": {},
   "outputs": [
    {
     "name": "stdout",
     "output_type": "stream",
     "text": [
      "exp\n"
     ]
    }
   ],
   "source": [
    "key = f\"{chr(69 ^ 32)}{chr(88 ^ 32)}{chr(80 ^ 32)}\"\n",
    "print(key)"
   ]
  },
  {
   "cell_type": "markdown",
   "id": "142d1ffb-96ed-42ba-aa24-e7350b92309c",
   "metadata": {},
   "source": [
    "A fitting key for Project Euler. :)\n",
    "\n",
    "Now, we decrypt the message, saving both the plaintext characters for the \n",
    "message and the ascii numbers for finding the sum that the problem wants."
   ]
  },
  {
   "cell_type": "code",
   "execution_count": 8,
   "id": "cfa7e919-ae35-4a83-87de-5af55766acd2",
   "metadata": {},
   "outputs": [],
   "source": [
    "plaintext_ascii = []\n",
    "plaintext = []\n",
    "for i, char in enumerate(char_list):\n",
    "    ascii_number = char ^ ord(key[i%3])\n",
    "    plaintext.append(chr(ascii_number))\n",
    "    plaintext_ascii.append(ascii_number)"
   ]
  },
  {
   "cell_type": "code",
   "execution_count": 9,
   "id": "d57141ef-6191-4bfe-b942-6a01ba646953",
   "metadata": {},
   "outputs": [
    {
     "name": "stdout",
     "output_type": "stream",
     "text": [
      "An extract taken from the introduction of one of Euler's most celebrated papers, \"De summis serierum reciprocarum\" [On the sums of series of reciprocals]: I have recently found, quite unexpectedly, an elegant expression for the entire sum of this series 1 + 1/4 + 1/9 + 1/16 + etc., which depends on the quadrature of the circle, so that if the true sum of this series is obtained, from it at once the quadrature of the circle follows. Namely, I have found that the sum of this series is a sixth part of the square of the perimeter of the circle whose diameter is 1; or by putting the sum of this series equal to s, it has the ratio sqrt(6) multiplied by s to 1 of the perimeter to the diameter. I will soon show that the sum of this series to be approximately 1.644934066842264364; and from multiplying this number by six, and then taking the square root, the number 3.141592653589793238 is indeed produced, which expresses the perimeter of a circle whose diameter is 1. Following again the same steps by which I had arrived at this sum, I have discovered that the sum of the series 1 + 1/16 + 1/81 + 1/256 + 1/625 + etc. also depends on the quadrature of the circle. Namely, the sum of this multiplied by 90 gives the biquadrate (fourth power) of the circumference of the perimeter of a circle whose diameter is 1. And by similar reasoning I have likewise been able to determine the sums of the subsequent series in which the exponents are even numbers.\n"
     ]
    }
   ],
   "source": [
    "print(\"\".join(plaintext))"
   ]
  },
  {
   "cell_type": "code",
   "execution_count": 10,
   "id": "841b555c-f910-443b-b21f-8c71365be558",
   "metadata": {},
   "outputs": [
    {
     "name": "stdout",
     "output_type": "stream",
     "text": [
      "129448\n"
     ]
    }
   ],
   "source": [
    "print(sum(plaintext_ascii))"
   ]
  }
 ],
 "metadata": {
  "kernelspec": {
   "display_name": "Python 3",
   "language": "python",
   "name": "python3"
  },
  "language_info": {
   "codemirror_mode": {
    "name": "ipython",
    "version": 3
   },
   "file_extension": ".py",
   "mimetype": "text/x-python",
   "name": "python",
   "nbconvert_exporter": "python",
   "pygments_lexer": "ipython3",
   "version": "3.8.10"
  }
 },
 "nbformat": 4,
 "nbformat_minor": 5
}
