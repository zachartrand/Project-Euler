{
 "cells": [
  {
   "cell_type": "markdown",
   "id": "b0a1c5c8-8550-4d99-8573-8fc23e28bd83",
   "metadata": {},
   "source": [
    "# Project Euler\n",
    "## Problem 73\n",
    "### Counting fractions in a range"
   ]
  },
  {
   "cell_type": "markdown",
   "id": "65834731-0dd5-45d8-b239-1c939a3572f3",
   "metadata": {},
   "source": [
    "<p>Consider the fraction, <i>n/d</i>, where <i>n</i> and <i>d</i> are positive integers. If <i>n</i>&lt;<i>d</i> and HCF(<i>n,d</i>)=1, it is called a reduced proper fraction.</p>\n",
    "<p>If we list the set of reduced proper fractions for <i>d</i> ≤ 8 in ascending order of size, we get:</p>\n",
    "<p class=\"center smaller\">1/8, 1/7, 1/6, 1/5, 1/4, 2/7, 1/3, <b>3/8, 2/5, 3/7</b>, 1/2, 4/7, 3/5, 5/8, 2/3, 5/7, 3/4, 4/5, 5/6, 6/7, 7/8</p>\n",
    "<p>It can be seen that there are 3 fractions between 1/3 and 1/2.</p>\n",
    "<p>How many fractions lie between 1/3 and 1/2 in the sorted set of reduced proper fractions for <i>d</i> ≤ 12,000?</p>"
   ]
  },
  {
   "cell_type": "markdown",
   "id": "acbf3eb1-4610-433b-b389-0b81fb12faad",
   "metadata": {},
   "source": [
    "### Solution\n",
    "#### Step 1: Upper bound\n",
    "\n",
    "To see the magnitude of the problem ahead, I decided to calculate the \n",
    "total number of distinct fractions for denominators 2 to 12,000 using \n",
    "the solution to [Problem 72](problem_72_counting_fractions.ipynb)."
   ]
  },
  {
   "cell_type": "code",
   "execution_count": 1,
   "id": "12c129ec-edbf-4737-bbb2-da1e7a2ec877",
   "metadata": {},
   "outputs": [],
   "source": [
    "from eulerlib import totient_list\n",
    "\n",
    "LIMIT = 12000\n",
    "\n",
    "totients = totient_list(LIMIT)"
   ]
  },
  {
   "cell_type": "code",
   "execution_count": 2,
   "id": "af984007-5009-40e8-a605-97e5ebe2813f",
   "metadata": {},
   "outputs": [
    {
     "name": "stdout",
     "output_type": "stream",
     "text": [
      "43772257\n"
     ]
    }
   ],
   "source": [
    "print(sum(totients[2:]))"
   ]
  },
  {
   "cell_type": "markdown",
   "id": "5481905f-c45e-47ca-a9b1-f9731f14c441",
   "metadata": {},
   "source": [
    "#### Step 2: Greatest common factor\n",
    "\n",
    "I realized that for each denominator, I could loop from d//3 + 1 to d//2 \n",
    "if d is even or d//2 + 1 if d is odd for potential numerators, and if the \n",
    "numerator and denominator's greatest common factor was 1, they would \n",
    "form a distinct reduced fraction."
   ]
  },
  {
   "cell_type": "code",
   "execution_count": 3,
   "id": "2cce8101-e17b-49c8-9fbe-632bc0ae3bdd",
   "metadata": {},
   "outputs": [],
   "source": [
    "from math import gcd\n",
    "\n",
    "count = 0\n",
    "for d in range(5, 12001):\n",
    "    lower = d//3 + 1\n",
    "    if d % 2 == 0:\n",
    "        upper = d//2\n",
    "    else:\n",
    "        upper = d//2 + 1\n",
    "    for n in range(lower, upper):\n",
    "        if gcd(n, d) == 1:\n",
    "            count += 1"
   ]
  },
  {
   "cell_type": "code",
   "execution_count": 4,
   "id": "5d8f79b5-21f0-4231-a02b-ef2034440dde",
   "metadata": {},
   "outputs": [
    {
     "name": "stdout",
     "output_type": "stream",
     "text": [
      "7295372\n"
     ]
    }
   ],
   "source": [
    "print(count)"
   ]
  }
 ],
 "metadata": {
  "kernelspec": {
   "display_name": "Python 3",
   "language": "python",
   "name": "python3"
  },
  "language_info": {
   "codemirror_mode": {
    "name": "ipython",
    "version": 3
   },
   "file_extension": ".py",
   "mimetype": "text/x-python",
   "name": "python",
   "nbconvert_exporter": "python",
   "pygments_lexer": "ipython3",
   "version": "3.8.10"
  }
 },
 "nbformat": 4,
 "nbformat_minor": 5
}
