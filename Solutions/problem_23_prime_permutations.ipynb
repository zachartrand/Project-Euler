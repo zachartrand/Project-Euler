{
 "cells": [
  {
   "cell_type": "markdown",
   "id": "2f907972-35e6-4afd-82d9-5edb22a9939b",
   "metadata": {},
   "source": [
    "# Project Euler\n",
    "## Problem 49\n",
    "### Prime permutations\n",
    "\n",
    "The arithmetic sequence, 1487, 4817, 8147, in which each of the terms increases by 3330, is unusual in two ways: (i) each of the three terms are prime, and, (ii) each of the 4-digit numbers are permutations of one another.\n",
    "\n",
    "There are no arithmetic sequences made up of three 1-, 2-, or 3-digit primes, exhibiting this property, but there is one other 4-digit increasing sequence.\n",
    "\n",
    "What 12-digit number do you form by concatenating the three terms in this sequence?"
   ]
  },
  {
   "cell_type": "code",
   "execution_count": 1,
   "id": "e7a42364-abc5-47ce-aaec-e48577994558",
   "metadata": {},
   "outputs": [],
   "source": [
    "from problem_03_largest_prime_factor import prime_sieve"
   ]
  },
  {
   "cell_type": "code",
   "execution_count": 2,
   "id": "bb634d5e-26f0-4069-8449-f0c75974872e",
   "metadata": {},
   "outputs": [],
   "source": [
    "primes = [prime for prime in prime_sieve(10000) if prime > 999]\n",
    "lower_primes = [prime for prime in primes if prime <= 3340]"
   ]
  },
  {
   "cell_type": "code",
   "execution_count": 3,
   "id": "de254a89-34be-4f85-aa64-62368c2e43be",
   "metadata": {},
   "outputs": [],
   "source": [
    "def get_digits(n, /):\n",
    "    digits = []\n",
    "    number = str(n)\n",
    "    for digit in number:\n",
    "        digits.append(int(digit))\n",
    "    digits.sort()\n",
    "    \n",
    "    return tuple(digits)\n",
    "\n",
    "\n",
    "def get_digital_root(n, /):\n",
    "    if n < 0:\n",
    "        raise ValueError('n must be positive.')\n",
    "    elif n < 10:\n",
    "        return n\n",
    "    else:\n",
    "        number = str(n)\n",
    "        count = 0\n",
    "        for digit in number:\n",
    "            if digit not in \"09\":\n",
    "                count += int(digit)\n",
    "        if count > 9:\n",
    "            count = get_digital_root(count)\n",
    "        \n",
    "        return count"
   ]
  },
  {
   "cell_type": "code",
   "execution_count": 4,
   "id": "e906f9e1-8882-499f-a7db-76dd5eeb9dcd",
   "metadata": {},
   "outputs": [],
   "source": [
    "# Tried grouping by digital root first, but this step seemed superfluous.\n",
    "# Preserved as a comment.\n",
    "\n",
    "# primes_by_digital_root = {}\n",
    "# for prime in primes:\n",
    "#     digital_root = get_digital_root(prime)\n",
    "#     primes_by_digital_root.setdefault(digital_root, [])\n",
    "#     primes_by_digital_root[digital_root].append(prime)"
   ]
  },
  {
   "cell_type": "code",
   "execution_count": 5,
   "id": "34dd92b3-ed67-4eb3-9995-f0a11dcb0a68",
   "metadata": {},
   "outputs": [],
   "source": [
    "primes_by_digits = {}\n",
    "for prime in primes:\n",
    "    digits = get_digits(prime)\n",
    "    if digits in primes_by_digits.keys():\n",
    "        primes_by_digits[digits].append(prime)\n",
    "    else:\n",
    "        primes_by_digits[digits] = [prime]"
   ]
  },
  {
   "cell_type": "code",
   "execution_count": 6,
   "id": "5fce8fe6-963f-469e-bd67-c96c8deffa01",
   "metadata": {},
   "outputs": [
    {
     "name": "stdout",
     "output_type": "stream",
     "text": [
      "1487 4817 8147\n",
      "2969 6299 9629\n"
     ]
    }
   ],
   "source": [
    "for prime in lower_primes:\n",
    "    digits = get_digits(prime)\n",
    "    second = prime + 3330\n",
    "    if second in primes and second in primes_by_digits[digits]:\n",
    "        third = second + 3330\n",
    "        if third in primes and third in primes_by_digits[digits]:\n",
    "            print(prime, second, third)"
   ]
  }
 ],
 "metadata": {
  "kernelspec": {
   "display_name": "Python 3",
   "language": "python",
   "name": "python3"
  },
  "language_info": {
   "codemirror_mode": {
    "name": "ipython",
    "version": 3
   },
   "file_extension": ".py",
   "mimetype": "text/x-python",
   "name": "python",
   "nbconvert_exporter": "python",
   "pygments_lexer": "ipython3",
   "version": "3.8.10"
  }
 },
 "nbformat": 4,
 "nbformat_minor": 5
}
