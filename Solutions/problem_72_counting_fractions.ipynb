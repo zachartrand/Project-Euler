{
 "cells": [
  {
   "cell_type": "markdown",
   "id": "a2d306f8-7463-42c3-a05c-80cb807d1b3d",
   "metadata": {},
   "source": [
    "# Project Euler\n",
    "## Problem 72\n",
    "### Counting fractions"
   ]
  },
  {
   "cell_type": "markdown",
   "id": "e31a6750-38d1-45e2-b435-bda47baaa9a2",
   "metadata": {},
   "source": [
    "<p>Consider the fraction, <i>n/d</i>, where <i>n</i> and <i>d</i> are positive integers. If <i>n</i>&lt;<i>d</i> and HCF(<i>n,d</i>)=1, it is called a reduced proper fraction.</p>\n",
    "<p>If we list the set of reduced proper fractions for <i>d</i> ≤ 8 in ascending order of size, we get:</p>\n",
    "<p class=\"center smaller\">1/8, 1/7, 1/6, 1/5, 1/4, 2/7, 1/3, 3/8, 2/5, 3/7, 1/2, 4/7, 3/5, 5/8, 2/3, 5/7, 3/4, 4/5, 5/6, 6/7, 7/8</p>\n",
    "<p>It can be seen that there are 21 elements in this set.</p>\n",
    "<p>How many elements would be contained in the set of reduced proper fractions for <i>d</i> ≤ 1,000,000?</p>"
   ]
  },
  {
   "cell_type": "markdown",
   "id": "b1848512-697b-4a5d-9c3b-a908674cde5e",
   "metadata": {},
   "source": [
    "### Solution: Sum of totients\n",
    "\n",
    "I wrote on paper the number of reduced fractions for d between 2 and 8, and \n",
    "found that the number of reduced fractions increases by the totient of the \n",
    "largest denominator."
   ]
  },
  {
   "cell_type": "code",
   "execution_count": 1,
   "id": "bbcedf6a-cf5a-4678-b6bc-ce5ea7d57555",
   "metadata": {},
   "outputs": [],
   "source": [
    "from eulerlib import totient_list\n",
    "\n",
    "LIMIT = 10**6\n",
    "\n",
    "totients = totient_list(LIMIT)"
   ]
  },
  {
   "cell_type": "code",
   "execution_count": 2,
   "id": "305683b9-ca3d-4dfc-90e5-8d85238d7bd3",
   "metadata": {},
   "outputs": [],
   "source": [
    "count = sum(totients[2:])  # Ignore totients for 0 and 1."
   ]
  },
  {
   "cell_type": "code",
   "execution_count": 3,
   "id": "7df3da2d-33cc-4649-baed-12908c37149f",
   "metadata": {},
   "outputs": [
    {
     "name": "stdout",
     "output_type": "stream",
     "text": [
      "303963552391\n"
     ]
    }
   ],
   "source": [
    "print(count)"
   ]
  }
 ],
 "metadata": {
  "kernelspec": {
   "display_name": "Python 3",
   "language": "python",
   "name": "python3"
  },
  "language_info": {
   "codemirror_mode": {
    "name": "ipython",
    "version": 3
   },
   "file_extension": ".py",
   "mimetype": "text/x-python",
   "name": "python",
   "nbconvert_exporter": "python",
   "pygments_lexer": "ipython3",
   "version": "3.8.10"
  }
 },
 "nbformat": 4,
 "nbformat_minor": 5
}
