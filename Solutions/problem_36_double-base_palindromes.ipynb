{
 "cells": [
  {
   "cell_type": "markdown",
   "id": "57f56f28-3983-4ce3-98c1-9732d0c81e4e",
   "metadata": {},
   "source": [
    "# Project Euler\n",
    "## Problem 36\n",
    "### Double-base palindromes"
   ]
  },
  {
   "cell_type": "markdown",
   "id": "da20e94e-5118-4648-89cf-bdc5e09753c6",
   "metadata": {},
   "source": [
    "<p>The decimal number, 585 = 1001001001<sub>2</sub> (binary), is palindromic in both bases.</p>\n",
    "<p>Find the sum of all numbers, less than one million, which are palindromic in base 10 and base 2.</p>\n",
    "<p class=\"smaller\">(Please note that the palindromic number, in either base, may not include leading zeros.)</p>"
   ]
  },
  {
   "cell_type": "code",
   "execution_count": 1,
   "id": "6e3ee631-5e63-4649-b4ef-31ab2e0933a3",
   "metadata": {},
   "outputs": [],
   "source": [
    "LIMIT = int(1e6) + 1\n",
    "\n",
    "\n",
    "def is_palindrome(n):\n",
    "    \"\"\"\n",
    "    Return True if n is a palindrome. Otherwise, return False.\n",
    "    \"\"\"\n",
    "    # Convert n into a string, then compare that string to the string in\n",
    "    # reverse order. For this, we slice the string with an increment of -1.\n",
    "    s = str(n)\n",
    "    if s == s[::-1]:\n",
    "        return True\n",
    "    \n",
    "    return False\n",
    "\n",
    "\n",
    "def get_base_10_binary_palindromes(limit):\n",
    "    \"\"\"\n",
    "    Return numbers up to limit that are palindromes\n",
    "    in both base 10 and base 2 (binary).\n",
    "    \"\"\"\n",
    "    palindromes = []\n",
    "    # We only need to look at the odd numbers. Even numbers in binary start with\n",
    "    # a one (1) and end with a zero (0), so they can't be binary palindromes.\n",
    "    for i in range(1, LIMIT, 2):\n",
    "        if is_palindrome(i):\n",
    "            # The bin() function returns a string of the form \"0bXXXXXX\" where\n",
    "            # the Xs are either zero (0) or one (1). Since we are only interested\n",
    "            # in the number part, we slice off the leading two characters.\n",
    "            if is_palindrome(bin(i)[2:]):\n",
    "                palindromes.append(i)\n",
    "    \n",
    "    return palindromes"
   ]
  },
  {
   "cell_type": "code",
   "execution_count": 2,
   "id": "a818713e-4cae-45c0-ab46-d732a604e868",
   "metadata": {},
   "outputs": [
    {
     "name": "stdout",
     "output_type": "stream",
     "text": [
      "[1, 3, 5, 7, 9, 33, 99, 313, 585, 717, 7447, 9009, 15351, 32223, 39993, 53235, 53835, 73737, 585585]\n"
     ]
    }
   ],
   "source": [
    "palindromes = get_base_10_binary_palindromes(LIMIT)\n",
    "print(palindromes)"
   ]
  },
  {
   "cell_type": "code",
   "execution_count": 3,
   "id": "b7fb209f-1886-42df-835a-719f5fd8476f",
   "metadata": {},
   "outputs": [
    {
     "name": "stdout",
     "output_type": "stream",
     "text": [
      "872187\n"
     ]
    }
   ],
   "source": [
    "print(sum(palindromes))"
   ]
  }
 ],
 "metadata": {
  "kernelspec": {
   "display_name": "Python 3",
   "language": "python",
   "name": "python3"
  },
  "language_info": {
   "codemirror_mode": {
    "name": "ipython",
    "version": 3
   },
   "file_extension": ".py",
   "mimetype": "text/x-python",
   "name": "python",
   "nbconvert_exporter": "python",
   "pygments_lexer": "ipython3",
   "version": "3.8.10"
  }
 },
 "nbformat": 4,
 "nbformat_minor": 5
}
