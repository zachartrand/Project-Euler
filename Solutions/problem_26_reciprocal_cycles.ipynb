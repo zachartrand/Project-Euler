{
 "cells": [
  {
   "cell_type": "markdown",
   "id": "f4d1e7b1-3b15-4a3b-9be6-69997201c2b1",
   "metadata": {
    "tags": []
   },
   "source": [
    "# Project Euler\n",
    "## Problem 26\n",
    "### Reciprocal cycles"
   ]
  },
  {
   "cell_type": "markdown",
   "id": "983a98ff-ee45-49d8-bd5b-59de8cfff17d",
   "metadata": {},
   "source": [
    "<p>A unit fraction contains 1 in the numerator. The decimal representation of the unit fractions with denominators 2 to 10 are given:</p>\n",
    "<blockquote>\n",
    "<table><tr><td><sup>1</sup>/<sub>2</sub></td><td>= </td><td>0.5</td>\n",
    "</tr><tr><td><sup>1</sup>/<sub>3</sub></td><td>= </td><td>0.(3)</td>\n",
    "</tr><tr><td><sup>1</sup>/<sub>4</sub></td><td>= </td><td>0.25</td>\n",
    "</tr><tr><td><sup>1</sup>/<sub>5</sub></td><td>= </td><td>0.2</td>\n",
    "</tr><tr><td><sup>1</sup>/<sub>6</sub></td><td>= </td><td>0.1(6)</td>\n",
    "</tr><tr><td><sup>1</sup>/<sub>7</sub></td><td>= </td><td>0.(142857)</td>\n",
    "</tr><tr><td><sup>1</sup>/<sub>8</sub></td><td>= </td><td>0.125</td>\n",
    "</tr><tr><td><sup>1</sup>/<sub>9</sub></td><td>= </td><td>0.(1)</td>\n",
    "</tr><tr><td><sup>1</sup>/<sub>10</sub></td><td>= </td><td>0.1</td>\n",
    "</tr></table></blockquote>\n",
    "<p>Where 0.1(6) means 0.166666..., and has a 1-digit recurring cycle. It can be seen that <sup>1</sup>/<sub>7</sub> has a 6-digit recurring cycle.</p>\n",
    "<p>Find the value of <i>d</i> &lt; 1000 for which <sup>1</sup>/<sub><i>d</i></sub> contains the longest recurring cycle in its decimal fraction part.</p>"
   ]
  },
  {
   "cell_type": "code",
   "execution_count": 1,
   "id": "555ee2ce-bdd4-4011-bdb7-55b645bee4b0",
   "metadata": {},
   "outputs": [],
   "source": [
    "from eulerlib import prime_sieve\n",
    "\n",
    "\n",
    "def cycle_length(d):\n",
    "    \"\"\"\n",
    "    Return the number of digits per repeating cycle if the decimal\n",
    "    1/d is a repeating decimal as well as the digits in that cycle.\n",
    "    \"\"\"\n",
    "    cycle = []\n",
    "    digits = []\n",
    "    r = 10\n",
    "    q = d\n",
    "    for _ in range(d-1):\n",
    "        q, r = divmod(r, d)\n",
    "        if r in cycle:\n",
    "            break\n",
    "        else:\n",
    "            digits.append(str(q))\n",
    "            cycle.append(r)\n",
    "            if r == 0:  # Decimal does not repeat.\n",
    "                cycle = []\n",
    "                break\n",
    "            else:\n",
    "                r *= 10\n",
    "    \n",
    "    return len(cycle), digits"
   ]
  },
  {
   "cell_type": "code",
   "execution_count": 2,
   "id": "a9fbfcf7-54ff-45e5-8fbc-b39e494f535a",
   "metadata": {},
   "outputs": [
    {
     "name": "stdout",
     "output_type": "stream",
     "text": [
      "The fraction with the longest decimal cycle is 1/983, with a cycle length of 982.\n",
      "\n",
      "0.(0010172939979654120040691759918616480162767039674465920651068158697863682604272634791454730417090539165818921668362156663275686673448626653102746693794506612410986775178026449643947100712105798575788402848423194303153611393692777212614445574771108850457782299084435401831129196337741607324516785350966429298067141403865717192268565615462868769074262461851475076297049847405900305188199389623601220752797558494404883011190233977619532044760935910478128179043743641912512716174974567650050864699898270600203458799593082400813835198372329603255340793489318413021363173957273652085452695829094608341810783316378433367243133265513733468972533062054933875890132248219735503560528992878942014242115971515768056968463886063072227873855544252288911495422177009155645981688708036622583926754832146490335707019328585961342828077314343845371312309257375381485249237029501525940996948118006103763987792472024415055951169888097660223804679552390640895218718209562563580874872838250254323499491353)\n"
     ]
    }
   ],
   "source": [
    "def get_longest_cycle(limit):\n",
    "    primes = prime_sieve(limit)\n",
    "    longest_denominator = 1\n",
    "    longest_cycle = 0\n",
    "    longest_digits = []\n",
    "    for d in primes:\n",
    "        n, digits = cycle_length(d)\n",
    "        if n > longest_cycle:\n",
    "            longest_denominator = d\n",
    "            longest_cycle = n\n",
    "            longest_digits = digits\n",
    "    \n",
    "    return longest_denominator, longest_cycle, longest_digits\n",
    "\n",
    "\n",
    "denom, cycle, digits = get_longest_cycle(1000)\n",
    "print(f\"The fraction with the longest decimal cycle is 1/{denom},\"\n",
    "      f\" with a cycle length of {cycle}.\")\n",
    "print()\n",
    "print(\"0.(\" + \"\".join(digits) + \")\")"
   ]
  },
  {
   "cell_type": "markdown",
   "id": "9f678086-1a28-4e59-a684-2deaf06b5346",
   "metadata": {
    "tags": []
   },
   "source": [
    "#### Optimized"
   ]
  },
  {
   "cell_type": "code",
   "execution_count": 3,
   "id": "ea253595-5ba6-49b1-b891-cfb0e8c40908",
   "metadata": {},
   "outputs": [
    {
     "name": "stdout",
     "output_type": "stream",
     "text": [
      "The fraction with the longest decimal cycle is 1/983, with a cycle length of 982.\n",
      "\n",
      "0.(0010172939979654120040691759918616480162767039674465920651068158697863682604272634791454730417090539165818921668362156663275686673448626653102746693794506612410986775178026449643947100712105798575788402848423194303153611393692777212614445574771108850457782299084435401831129196337741607324516785350966429298067141403865717192268565615462868769074262461851475076297049847405900305188199389623601220752797558494404883011190233977619532044760935910478128179043743641912512716174974567650050864699898270600203458799593082400813835198372329603255340793489318413021363173957273652085452695829094608341810783316378433367243133265513733468972533062054933875890132248219735503560528992878942014242115971515768056968463886063072227873855544252288911495422177009155645981688708036622583926754832146490335707019328585961342828077314343845371312309257375381485249237029501525940996948118006103763987792472024415055951169888097660223804679552390640895218718209562563580874872838250254323499491353)\n"
     ]
    }
   ],
   "source": [
    "def get_longest_cycle_quick(limit):\n",
    "    primes = prime_sieve(limit)\n",
    "    longest_denominator = 1\n",
    "    longest_cycle = 0\n",
    "    longest_digits = []\n",
    "    for d in reversed(primes):\n",
    "        if d < longest_cycle:\n",
    "            break\n",
    "        n, digits = cycle_length(d)\n",
    "        if n > longest_cycle:\n",
    "            longest_denominator = d\n",
    "            longest_cycle = n\n",
    "            longest_digits = digits\n",
    "    \n",
    "    return longest_denominator, longest_cycle, longest_digits\n",
    "\n",
    "\n",
    "denom, cycle, digits = get_longest_cycle_quick(1000)\n",
    "print(f\"The fraction with the longest decimal cycle is 1/{denom},\"\n",
    "      f\" with a cycle length of {cycle}.\")\n",
    "print()\n",
    "print(\"0.(\" + \"\".join(digits) + \")\")"
   ]
  },
  {
   "cell_type": "code",
   "execution_count": 4,
   "id": "ffe94c58-079a-4aee-a980-e071941b4718",
   "metadata": {},
   "outputs": [
    {
     "name": "stdout",
     "output_type": "stream",
     "text": [
      "163 ms ± 6.2 ms per loop (mean ± std. dev. of 7 runs, 10 loops each)\n"
     ]
    }
   ],
   "source": [
    "%timeit get_longest_cycle(1000)"
   ]
  },
  {
   "cell_type": "code",
   "execution_count": 5,
   "id": "50a6cdd7-d74a-4512-b1f2-ef6cd25c424a",
   "metadata": {},
   "outputs": [
    {
     "name": "stdout",
     "output_type": "stream",
     "text": [
      "8.65 ms ± 314 µs per loop (mean ± std. dev. of 7 runs, 100 loops each)\n"
     ]
    }
   ],
   "source": [
    "%timeit get_longest_cycle_quick(1000)"
   ]
  }
 ],
 "metadata": {
  "kernelspec": {
   "display_name": "Python 3 (ipykernel)",
   "language": "python",
   "name": "python3"
  },
  "language_info": {
   "codemirror_mode": {
    "name": "ipython",
    "version": 3
   },
   "file_extension": ".py",
   "mimetype": "text/x-python",
   "name": "python",
   "nbconvert_exporter": "python",
   "pygments_lexer": "ipython3",
   "version": "3.10.0"
  }
 },
 "nbformat": 4,
 "nbformat_minor": 5
}
