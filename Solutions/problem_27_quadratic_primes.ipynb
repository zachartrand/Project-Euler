{
 "cells": [
  {
   "cell_type": "markdown",
   "id": "c52733bd-243b-430d-a855-be10f6caaeb8",
   "metadata": {},
   "source": [
    "# Project Euler\n",
    "## Problem 27\n",
    "### Quadratic primes"
   ]
  },
  {
   "cell_type": "markdown",
   "id": "7eb45be4-1586-4425-9b41-40e5eaa3f553",
   "metadata": {},
   "source": [
    "<p>Euler discovered the remarkable quadratic formula:</p>\n",
    "<p class=\"center\">$n^2 + n + 41$</p>\n",
    "<p>It turns out that the formula will produce 40 primes for the consecutive integer values $0 \\le n \\le 39$. However, when $n = 40, 40^2 + 40 + 41 = 40(40 + 1) + 41$ is divisible by 41, and certainly when $n = 41, 41^2 + 41 + 41$ is clearly divisible by 41.</p>\n",
    "<p>The incredible formula $n^2 - 79n + 1601$ was discovered, which produces 80 primes for the consecutive values $0 \\le n \\le 79$. The product of the coefficients, −79 and 1601, is −126479.</p>\n",
    "<p>Considering quadratics of the form:</p>\n",
    "<blockquote>\n",
    "$n^2 + an + b$, where $|a| \\lt 1000$ and $|b| \\le 1000$<br><br><div>where $|n|$ is the modulus/absolute value of $n$<br>e.g. $|11| = 11$ and $|-4| = 4$</div>\n",
    "</blockquote>\n",
    "<p>Find the product of the coefficients, $a$ and $b$, for the quadratic expression that produces the maximum number of primes for consecutive values of $n$, starting with $n = 0$.</p>"
   ]
  },
  {
   "cell_type": "markdown",
   "id": "d4cec54a-757c-40cd-bd9d-cb27bb3f99bf",
   "metadata": {},
   "source": [
    "### Solution\n",
    "\n",
    "Since the quadratic function must work for $n = 0$, we know that $b$ must be a prime number,\n",
    "since $0^2 + 0 + b = b$. When iterating through potential b values, we only need to iterate \n",
    "through prime numbers less than 1000.\n",
    "\n",
    "With a bit of arithmetic, we can see that $a$ must be odd. This is because all prime numbers\n",
    "larger than 2 are odd, and $b$, being prime itself, must be odd. So, in order to add up to\n",
    "an odd number, $n^2 + an$ must be even since an even number plus an odd number is odd,\n",
    "and this is the only combination that will produce an odd number. If we look at all the\n",
    "combinations of $n$ being odd or even and $a$ being odd or even, we get the following:\n",
    "\n",
    "* When $a$ is odd:\n",
    "    * When $n$ is even, $n^2 + an$ is even.\n",
    "    * When $n$ is odd, $n^2 + an$ is even.\n",
    "* When $a$ is even:\n",
    "    * When $n$ is even, $n^2 + an$ is even.\n",
    "    * When $n$ is odd, $n^2 + an$ is odd.\n",
    "    \n",
    "This means, when $a$ is even, every consecutive output in the quadratic equation will be \n",
    "an even number and will break the chain of consecutive primes."
   ]
  },
  {
   "cell_type": "code",
   "execution_count": 1,
   "id": "832206fc-5424-4844-96f9-f7c428aaa84d",
   "metadata": {},
   "outputs": [],
   "source": [
    "from eulerlib import prime_sieve\n",
    "\n",
    "primes = prime_sieve(2000)\n",
    "possible_b = [prime for prime in primes if prime < 1000]"
   ]
  },
  {
   "cell_type": "code",
   "execution_count": 2,
   "id": "102c1366-bd18-43ad-90f1-a583ca39ff12",
   "metadata": {},
   "outputs": [
    {
     "name": "stdout",
     "output_type": "stream",
     "text": [
      "The best quadratic function is n^2 + -61n + 971 with 71 consecutive primes.\n"
     ]
    }
   ],
   "source": [
    "best_a = 0\n",
    "best_b = 0\n",
    "longest_count = 0\n",
    "for b in possible_b:\n",
    "    for a in range(1, 1000, 2):\n",
    "        current_a = a\n",
    "        current_b = b\n",
    "        \n",
    "        # Test positive a:\n",
    "        n = 0\n",
    "        while True:\n",
    "            possible_prime = n**2 + a*n + b\n",
    "            if possible_prime in primes:\n",
    "                n += 1\n",
    "            else:\n",
    "                break\n",
    "        count = n\n",
    "        \n",
    "        # Test negative a:\n",
    "        n = 0\n",
    "        while True:\n",
    "            possible_prime = n**2 - a*n + b\n",
    "            if possible_prime in primes:\n",
    "                n += 1\n",
    "            else:\n",
    "                break\n",
    "        if n > count:\n",
    "            count = n\n",
    "            current_a = -a\n",
    "        \n",
    "        if count > longest_count:\n",
    "            longest_count = count\n",
    "            best_a = current_a\n",
    "            best_b = current_b\n",
    "\n",
    "print(f\"The best quadratic function is n^2 + {best_a}n + {best_b} with {longest_count} consecutive primes.\")"
   ]
  },
  {
   "cell_type": "markdown",
   "id": "e7390216-6a82-459a-8b1f-9e9619fd3ade",
   "metadata": {},
   "source": [
    "Now that we have a and b, find their product:"
   ]
  },
  {
   "cell_type": "code",
   "execution_count": 3,
   "id": "16c24155-ec63-4274-aae7-db00d77a6dc1",
   "metadata": {},
   "outputs": [
    {
     "data": {
      "text/plain": [
       "-59231"
      ]
     },
     "execution_count": 3,
     "metadata": {},
     "output_type": "execute_result"
    }
   ],
   "source": [
    "best_a * best_b"
   ]
  }
 ],
 "metadata": {
  "kernelspec": {
   "display_name": "Python 3",
   "language": "python",
   "name": "python3"
  },
  "language_info": {
   "codemirror_mode": {
    "name": "ipython",
    "version": 3
   },
   "file_extension": ".py",
   "mimetype": "text/x-python",
   "name": "python",
   "nbconvert_exporter": "python",
   "pygments_lexer": "ipython3",
   "version": "3.8.10"
  }
 },
 "nbformat": 4,
 "nbformat_minor": 5
}
