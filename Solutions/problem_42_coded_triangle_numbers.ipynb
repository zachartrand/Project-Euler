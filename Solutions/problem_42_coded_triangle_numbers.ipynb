{
 "cells": [
  {
   "cell_type": "markdown",
   "id": "b213d704-ddba-412b-98c7-9d9cbada4ecd",
   "metadata": {
    "tags": []
   },
   "source": [
    "# Project Euler\n",
    "## Problem 42\n",
    "### Coded triangle numbers\n",
    "\n",
    "<p>The <i>n</i><sup>th</sup> term of the sequence of triangle numbers is given by, <i>t<sub>n</sub></i> = ½<i>n</i>(<i>n</i>+1); so the first ten triangle numbers are:</p>\n",
    "<p class=\"center\">1, 3, 6, 10, 15, 21, 28, 36, 45, 55, ...</p>\n",
    "<p>By converting each letter in a word to a number corresponding to its alphabetical position and adding these values we form a word value. For example, the word value for SKY is 19 + 11 + 25 = 55 = <i>t</i><sub>10</sub>. If the word value is a triangle number then we shall call the word a triangle word.</p>\n",
    "<p>Using <a href=\"project/resources/p042_words.txt\">words.txt</a> (right click and 'Save Link/Target As...'), a 16K text file containing nearly two-thousand common English words, how many are triangle words?</p>"
   ]
  },
  {
   "cell_type": "markdown",
   "id": "d50c5d7f-be60-4e15-be8c-b778c0f9ce83",
   "metadata": {
    "tags": []
   },
   "source": [
    "### Solution\n",
    "\n",
    "My first step is to create a dictionary of all the letters and their point \n",
    "values. I used capital letters since the text file is in all caps:"
   ]
  },
  {
   "cell_type": "code",
   "execution_count": 1,
   "id": "28e7404f-cc49-4bab-8ffa-aa2db0b0b334",
   "metadata": {},
   "outputs": [],
   "source": [
    "LETTERS = \"ABCDEFGHIJKLMNOPQRSTUVWXYZ\"\n",
    "\n",
    "letter_values = {}\n",
    "for letter in LETTERS:\n",
    "    letter_values[letter] = LETTERS.index(letter) + 1"
   ]
  },
  {
   "cell_type": "markdown",
   "id": "402360a3-4e94-4f2a-8271-8851694889e5",
   "metadata": {},
   "source": [
    "The next step is to import the text file and convert it into a list of words.\n",
    "All of the words are in quotations, and Python inputs text files as a large \n",
    "string, so I also removed the quotations:"
   ]
  },
  {
   "cell_type": "code",
   "execution_count": 2,
   "id": "7078ca6b-1df5-4f6e-b299-06d608865942",
   "metadata": {},
   "outputs": [],
   "source": [
    "with open(\"p042_words.txt\") as file:\n",
    "    words = file.read()\n",
    "\n",
    "words = words.replace('\"', \"\")\n",
    "words = words.split(\",\")"
   ]
  },
  {
   "cell_type": "markdown",
   "id": "d1beede1-8b95-43f5-9eca-f3723ab9b5b7",
   "metadata": {},
   "source": [
    "To figure out the largest triangle number that could be generated from these \n",
    "words, we need to find the longest word length in the list and find the \n",
    "largest triangle number that is less than or equal to the (hypothetical) \n",
    "largest point value that that word could have (i.e., every letter is \"Z\", \n",
    "so 26 times the number of letters)."
   ]
  },
  {
   "cell_type": "code",
   "execution_count": 3,
   "id": "973ae1b7-eeea-4562-861c-cedfc8d5d571",
   "metadata": {},
   "outputs": [
    {
     "data": {
      "text/plain": [
       "26"
      ]
     },
     "execution_count": 3,
     "metadata": {},
     "output_type": "execute_result"
    }
   ],
   "source": [
    "from math import sqrt\n",
    "\n",
    "max_length = 0\n",
    "for word in words:\n",
    "    length = len(word)\n",
    "    if length > max_length:\n",
    "        max_length = length\n",
    "\n",
    "max_points = max_length*26\n",
    "max_triangle_number = int((sqrt(1+8*max_points)-1) // 2)\n",
    "max_triangle_number"
   ]
  },
  {
   "cell_type": "markdown",
   "id": "0e12778a-ff57-4e39-9445-ae342fdf30d8",
   "metadata": {},
   "source": [
    "Now that we know the largest triangle number we need is the 26th (fun coincidence), we can make an array of triangle numbers that we can compare word values against."
   ]
  },
  {
   "cell_type": "code",
   "execution_count": 4,
   "id": "cfc6c98a-5671-4f63-a1fe-27fe2647e156",
   "metadata": {},
   "outputs": [],
   "source": [
    "triangle_numbers = []\n",
    "for n in range(27):\n",
    "    triangle_numbers.append(n*(n+1)//2)"
   ]
  },
  {
   "cell_type": "code",
   "execution_count": 5,
   "id": "91ec73e0-70cf-483d-a478-8f5b6c34e921",
   "metadata": {},
   "outputs": [],
   "source": [
    "triangle_words = []\n",
    "for word in words:\n",
    "    value = 0\n",
    "    for letter in word:\n",
    "        value += letter_values[letter]\n",
    "    if value in triangle_numbers:\n",
    "        triangle_words.append(word)"
   ]
  },
  {
   "cell_type": "markdown",
   "id": "4a4ea5ec-dd91-4b1f-aed4-3ee206ea70e8",
   "metadata": {},
   "source": [
    "We can now look at how many items we have in our `triangle_words` list to get \n",
    "the answer."
   ]
  },
  {
   "cell_type": "code",
   "execution_count": 6,
   "id": "d041fcde-7c26-47bb-a484-86857cad262b",
   "metadata": {},
   "outputs": [
    {
     "data": {
      "text/plain": [
       "162"
      ]
     },
     "execution_count": 6,
     "metadata": {},
     "output_type": "execute_result"
    }
   ],
   "source": [
    "len(triangle_words)"
   ]
  },
  {
   "cell_type": "markdown",
   "id": "399b7aed-4afe-4888-bbba-4d62dc72ad5e",
   "metadata": {},
   "source": [
    "BONUS: Here is the list of words that are triangle words:"
   ]
  },
  {
   "cell_type": "code",
   "execution_count": 7,
   "id": "42633192-c3a1-409f-abe1-4dca1895f51e",
   "metadata": {},
   "outputs": [
    {
     "name": "stdout",
     "output_type": "stream",
     "text": [
      "A\n",
      "ABILITY\n",
      "ABOVE\n",
      "ACCOMPANY\n",
      "ACHIEVEMENT\n",
      "AGENCY\n",
      "AGREE\n",
      "AIR\n",
      "ALREADY\n",
      "AN\n",
      "ANCIENT\n",
      "APPARENT\n",
      "APPOINT\n",
      "APPROACH\n",
      "ASSUME\n",
      "AT\n",
      "ATMOSPHERE\n",
      "BAG\n",
      "BAND\n",
      "BANK\n",
      "BAR\n",
      "BEAT\n",
      "BELONG\n",
      "BENEATH\n",
      "BONE\n",
      "BOTH\n",
      "BRIDGE\n",
      "BUILDING\n",
      "BURN\n",
      "CALL\n",
      "CAPACITY\n",
      "CAREFUL\n",
      "CASE\n",
      "CHILD\n",
      "CIVIL\n",
      "CLOSELY\n",
      "COME\n",
      "CONFIDENCE\n",
      "CONFIRM\n",
      "CONSERVATIVE\n",
      "CONSTRUCTION\n",
      "CONTENT\n",
      "COULD\n",
      "CURRENTLY\n",
      "DECISION\n",
      "DEFINITION\n",
      "DEMOCRATIC\n",
      "DEPUTY\n",
      "DESPITE\n",
      "DISTINCTION\n",
      "EAST\n",
      "EDGE\n",
      "EDUCATIONAL\n",
      "EFFECT\n",
      "EQUIPMENT\n",
      "EVENT\n",
      "FACE\n",
      "FAIL\n",
      "FAMILY\n",
      "FEEL\n",
      "FIELD\n",
      "FIGURE\n",
      "FLOOR\n",
      "FREEDOM\n",
      "FUND\n",
      "FUTURE\n",
      "GENTLEMAN\n",
      "GREY\n",
      "GROWTH\n",
      "HAIR\n",
      "HAPPY\n",
      "HAVE\n",
      "HERE\n",
      "HIS\n",
      "IF\n",
      "INCIDENT\n",
      "INCREASED\n",
      "INCREASINGLY\n",
      "INDIVIDUAL\n",
      "INSTRUMENT\n",
      "INTEND\n",
      "INTENTION\n",
      "IS\n",
      "LAW\n",
      "LEADER\n",
      "LEAVE\n",
      "LENGTH\n",
      "LESS\n",
      "LITTLE\n",
      "LOVELY\n",
      "MAN\n",
      "MATCH\n",
      "MERELY\n",
      "MILK\n",
      "MISTAKE\n",
      "MOVE\n",
      "MUCH\n",
      "NEED\n",
      "NOTICE\n",
      "OBJECT\n",
      "OBJECTIVE\n",
      "OF\n",
      "OIL\n",
      "ONLY\n",
      "OTHER\n",
      "OURSELVES\n",
      "PART\n",
      "PASS\n",
      "PATH\n",
      "PERFORM\n",
      "PRISON\n",
      "PRIVATE\n",
      "PROBABLY\n",
      "PROCEDURE\n",
      "QUALITY\n",
      "QUESTION\n",
      "RANGE\n",
      "READ\n",
      "REAL\n",
      "RELIEF\n",
      "REMOVE\n",
      "REPRESENT\n",
      "REQUEST\n",
      "RESPOND\n",
      "RIDE\n",
      "SAMPLE\n",
      "SAY\n",
      "SEAT\n",
      "SECURITY\n",
      "SINGLE\n",
      "SKY\n",
      "SOIL\n",
      "SOLICITOR\n",
      "SONG\n",
      "SOUTHERN\n",
      "SPIRIT\n",
      "START\n",
      "SUGGESTION\n",
      "TALL\n",
      "TAX\n",
      "THEORY\n",
      "THREATEN\n",
      "THROUGHOUT\n",
      "TITLE\n",
      "TOOTH\n",
      "TOTALLY\n",
      "TRAVEL\n",
      "TYPE\n",
      "UNABLE\n",
      "UNDERSTAND\n",
      "UPON\n",
      "USE\n",
      "VARIOUS\n",
      "VARY\n",
      "VIDEO\n",
      "WAGE\n",
      "WARM\n",
      "WATCH\n",
      "WE\n",
      "WHILST\n",
      "WIDELY\n",
      "WOMAN\n"
     ]
    }
   ],
   "source": [
    "for word in triangle_words:\n",
    "    print(word)"
   ]
  }
 ],
 "metadata": {
  "kernelspec": {
   "display_name": "Python 3 (ipykernel)",
   "language": "python",
   "name": "python3"
  },
  "language_info": {
   "codemirror_mode": {
    "name": "ipython",
    "version": 3
   },
   "file_extension": ".py",
   "mimetype": "text/x-python",
   "name": "python",
   "nbconvert_exporter": "python",
   "pygments_lexer": "ipython3",
   "version": "3.10.0"
  }
 },
 "nbformat": 4,
 "nbformat_minor": 5
}
