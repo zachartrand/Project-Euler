{
 "cells": [
  {
   "cell_type": "markdown",
   "id": "64056ae9-50ec-40dc-a263-58c938fbbe5d",
   "metadata": {},
   "source": [
    "# Project Euler\n",
    "## Problem 33\n",
    "### Digit cancelling fractions\n",
    "\n",
    "<p>The fraction <sup>49</sup>/<sub>98</sub> is a curious fraction, as an inexperienced mathematician in attempting to simplify it may incorrectly believe that <sup>49</sup>/<sub>98</sub> = <sup>4</sup>/<sub>8</sub>, which is correct, is obtained by cancelling the 9s.</p>\n",
    "<p>We shall consider fractions like, <sup>30</sup>/<sub>50</sub> = <sup>3</sup>/<sub>5</sub>, to be trivial examples.</p>\n",
    "<p>There are exactly four non-trivial examples of this type of fraction, less than one in value, and containing two digits in the numerator and denominator.</p>\n",
    "<p>If the product of these four fractions is given in its lowest common terms, find the value of the denominator.</p>"
   ]
  },
  {
   "cell_type": "code",
   "execution_count": 1,
   "id": "5fbde2f1-623b-4f26-9b18-fdeb3034cf69",
   "metadata": {},
   "outputs": [],
   "source": [
    "import math\n",
    "from fractions import Fraction\n",
    "\n",
    "numerators = []\n",
    "denominators = []\n",
    "for i in range(1, 10):\n",
    "    for j in range(i, 10):\n",
    "        for k in range(i+1, 10):\n",
    "            n = int(str(i)+str(j))\n",
    "            d = int(str(j)+str(k))\n",
    "            fraction = n/d\n",
    "            if fraction == i/k:\n",
    "                numerators.append(n)\n",
    "                denominators.append(d)"
   ]
  },
  {
   "cell_type": "code",
   "execution_count": 2,
   "id": "9c0f3841-712d-4210-b0ee-7a95fabad369",
   "metadata": {},
   "outputs": [
    {
     "data": {
      "text/plain": [
       "[16, 19, 26, 49]"
      ]
     },
     "execution_count": 2,
     "metadata": {},
     "output_type": "execute_result"
    }
   ],
   "source": [
    "numerators"
   ]
  },
  {
   "cell_type": "code",
   "execution_count": 3,
   "id": "2fc8628c-b19c-4e45-b611-302eb3d0c2f6",
   "metadata": {},
   "outputs": [
    {
     "data": {
      "text/plain": [
       "[64, 95, 65, 98]"
      ]
     },
     "execution_count": 3,
     "metadata": {},
     "output_type": "execute_result"
    }
   ],
   "source": [
    "denominators"
   ]
  },
  {
   "cell_type": "code",
   "execution_count": 4,
   "id": "3c93b432-dae3-436f-a23d-a69202f0645a",
   "metadata": {},
   "outputs": [
    {
     "data": {
      "text/plain": [
       "100"
      ]
     },
     "execution_count": 4,
     "metadata": {},
     "output_type": "execute_result"
    }
   ],
   "source": [
    "n = Fraction(math.prod(numerators), math.prod(denominators))\n",
    "n.denominator"
   ]
  },
  {
   "cell_type": "code",
   "execution_count": 5,
   "id": "e88f633a-1edc-42a1-bb59-a2c33280d8ec",
   "metadata": {},
   "outputs": [
    {
     "name": "stdout",
     "output_type": "stream",
     "text": [
      "324 µs ± 19.5 µs per loop (mean ± std. dev. of 7 runs, 1000 loops each)\n"
     ]
    }
   ],
   "source": [
    "%%timeit\n",
    "numerators = []\n",
    "denominators = []\n",
    "for i in range(1, 10):\n",
    "    for j in range(i, 10):\n",
    "        for k in range(i+1, 10):\n",
    "            n = int(str(i)+str(j))\n",
    "            d = int(str(j)+str(k))\n",
    "            fraction = n/d\n",
    "            if fraction == i/k:\n",
    "                numerators.append(n)\n",
    "                denominators.append(d)"
   ]
  }
 ],
 "metadata": {
  "kernelspec": {
   "display_name": "Python 3 (ipykernel)",
   "language": "python",
   "name": "python3"
  },
  "language_info": {
   "codemirror_mode": {
    "name": "ipython",
    "version": 3
   },
   "file_extension": ".py",
   "mimetype": "text/x-python",
   "name": "python",
   "nbconvert_exporter": "python",
   "pygments_lexer": "ipython3",
   "version": "3.10.0"
  }
 },
 "nbformat": 4,
 "nbformat_minor": 5
}
