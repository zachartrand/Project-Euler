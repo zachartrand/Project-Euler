{
 "cells": [
  {
   "cell_type": "markdown",
   "id": "d8452bc1-c3ce-4dfd-abd7-43ca19be2f39",
   "metadata": {},
   "source": [
    "# Project Euler\n",
    "## Problem 67\n",
    "### Maximum path sum II\n",
    "\n",
    "By starting at the top of the triangle below and moving to adjacent numbers on the row below, the maximum total from top to bottom is 23.\n",
    "\n",
    "<center>\n",
    "  <span style=\"color:#c00; font-weight:bold\">3</span><br>\n",
    "  <span style=\"color:#c00; font-weight:bold\">7</span> 4<br>\n",
    "  2 <span style=\"color:#c00; font-weight:bold\">4</span> 6<br>\n",
    "  8 5 <span style=\"color:#c00; font-weight:bold\">9</span> 3<br>\n",
    "</center>\n",
    "\n",
    "That is, 3 + 7 + 4 + 9 = 23.\n",
    "\n",
    "Find the maximum total from top to bottom in\n",
    "[triangle.txt](https://projecteuler.net/project/resources/p067_triangle.txt)\n",
    "(right click and 'Save Link/Target As...'), a 15K text file containing a triangle with one-hundred rows.\n",
    "\n",
    "**NOTE:** This is a much more difficult version of Problem 18. It is not possible to try every route to solve this problem, as there are 2<sup>99</sup> altogether! If you could check one trillion (10<sup>12</sup>) routes every second it would take over twenty billion years to check them all. There is an efficient algorithm to solve it. ;o)"
   ]
  },
  {
   "cell_type": "code",
   "execution_count": 1,
   "id": "f7b27973-5c8f-4152-a6a8-455dda73ec4f",
   "metadata": {},
   "outputs": [],
   "source": [
    "with open(\"p067_triangle.txt\", \"r\") as file:\n",
    "    triangle_str = file.read()"
   ]
  },
  {
   "cell_type": "code",
   "execution_count": 2,
   "id": "084e9e73-9a9c-4a16-a4b8-2f7551b72076",
   "metadata": {},
   "outputs": [],
   "source": [
    "def string_to_number_list(string):\n",
    "    triangle_by_row = string.strip().split(\"\\n\")\n",
    "    triangle = []\n",
    "    for row in triangle_by_row:\n",
    "        numbers = row.split()\n",
    "        number_row = []\n",
    "        for number in numbers:\n",
    "            number_row.append(int(number))\n",
    "        triangle.append(number_row)\n",
    "    \n",
    "    return triangle\n",
    "\n",
    "def get_max_sums(triangle):\n",
    "    triangle_sums = [[value for value in row] for row in reversed(triangle)]\n",
    "    for i, row in enumerate(triangle_sums[1:]):  # Need to remove top row or Python will throw an IndexError.\n",
    "        for j, _ in enumerate(row):\n",
    "            triangle_sums[i+1][j] += max(triangle_sums[i][j], triangle_sums[i][j+1])\n",
    "    \n",
    "    return triangle_sums[::-1]"
   ]
  },
  {
   "cell_type": "code",
   "execution_count": 3,
   "id": "ec2ad642-a09e-421d-b514-dc8e34b754a5",
   "metadata": {},
   "outputs": [
    {
     "name": "stdout",
     "output_type": "stream",
     "text": [
      "Answer: 7273\n"
     ]
    }
   ],
   "source": [
    "triangle = string_to_number_list(triangle_str)\n",
    "max_path_sums = get_max_sums(triangle)\n",
    "print(f\"Answer: {max_path_sums[0][0]}\")"
   ]
  },
  {
   "cell_type": "markdown",
   "id": "a9e24896-4257-4031-bf76-4a4e7e7e6f12",
   "metadata": {},
   "source": [
    "### Extra Credit: Find the values and the path from the sums\n",
    "\n",
    "For fun, I tried to reverse engineer the path from the sums and the values of the triangle. \n",
    "I was able to make a function that works, and I have it below:"
   ]
  },
  {
   "cell_type": "code",
   "execution_count": 4,
   "id": "3f6fed54-ed05-4b38-8f6a-1082ed28c7bf",
   "metadata": {},
   "outputs": [],
   "source": [
    "def get_max_path_values(triangle):\n",
    "    indices = []\n",
    "    sums = [[value for value in row] for row in get_max_sums(triangle)]\n",
    "    for i, row in enumerate(reversed(sums)):\n",
    "        if i == 0:\n",
    "            indices.append(0)\n",
    "        else:\n",
    "            last_index = indices[-1]\n",
    "            values = sums[i-1][last_index] - sums[i][last_index], sums[i-1][last_index] - sums[i][last_index+1]\n",
    "            is_number = values[0] == triangle[i-1][last_index], values[1] == triangle[i-1][last_index]\n",
    "            index = last_index + is_number.index(True)\n",
    "            indices.append(index)\n",
    "\n",
    "    values =[]\n",
    "    for i, index in enumerate(indices):\n",
    "        values.append(triangle[i][index])\n",
    "        \n",
    "    return values"
   ]
  },
  {
   "cell_type": "code",
   "execution_count": 5,
   "id": "c2e1e00c-3a36-4938-a8f0-87cca0e3cb4d",
   "metadata": {},
   "outputs": [
    {
     "data": {
      "text/plain": [
       "7273"
      ]
     },
     "execution_count": 5,
     "metadata": {},
     "output_type": "execute_result"
    }
   ],
   "source": [
    "values = get_max_path_values(triangle)\n",
    "sum(values)"
   ]
  }
 ],
 "metadata": {
  "kernelspec": {
   "display_name": "Python 3",
   "language": "python",
   "name": "python3"
  },
  "language_info": {
   "codemirror_mode": {
    "name": "ipython",
    "version": 3
   },
   "file_extension": ".py",
   "mimetype": "text/x-python",
   "name": "python",
   "nbconvert_exporter": "python",
   "pygments_lexer": "ipython3",
   "version": "3.8.10"
  }
 },
 "nbformat": 4,
 "nbformat_minor": 5
}
