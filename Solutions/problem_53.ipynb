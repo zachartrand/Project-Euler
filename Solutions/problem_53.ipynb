{
 "cells": [
  {
   "cell_type": "markdown",
   "id": "bffff0f4-3a3d-4d4a-8d27-260b2f8fb4a2",
   "metadata": {},
   "source": [
    "# Project Euler\n",
    "## Problem 53\n",
    "### Combinatoric selections"
   ]
  },
  {
   "cell_type": "markdown",
   "id": "32727a35-c073-4f22-ab14-9962ceff0a05",
   "metadata": {},
   "source": [
    "<p>There are exactly ten ways of selecting three from five, 12345:</p>\n",
    "<p class=\"center\">123, 124, 125, 134, 135, 145, 234, 235, 245, and 345</p>\n",
    "<p>In combinatorics, we use the notation, $\\displaystyle \\binom 5 3 = 10$.</p>\n",
    "<p>In general, $\\displaystyle \\binom n r = \\dfrac{n!}{r!(n-r)!}$, where $r \\le n$, $n! = n \\times (n-1) \\times ... \\times 3 \\times 2 \\times 1$, and $0! = 1$.\n",
    "</p>\n",
    "<p>It is not until $n = 23$, that a value exceeds one-million: $\\displaystyle \\binom {23} {10} = 1144066$.</p>\n",
    "<p>How many, not necessarily distinct, values of $\\displaystyle \\binom n r$ for $1 \\le n \\le 100$, are greater than one-million?</p>"
   ]
  },
  {
   "cell_type": "markdown",
   "id": "4fea101f-e322-4eec-b27e-dc2f827c1795",
   "metadata": {},
   "source": [
    "### Solution"
   ]
  },
  {
   "cell_type": "code",
   "execution_count": 1,
   "id": "dbba110c-7350-440b-87b6-bb5d85cff2a7",
   "metadata": {},
   "outputs": [
    {
     "name": "stdout",
     "output_type": "stream",
     "text": [
      "4075\n"
     ]
    }
   ],
   "source": [
    "from math import comb\n",
    "\n",
    "count = 0\n",
    "for n in range(23, 101):\n",
    "    if n % 2 == 0:\n",
    "        limit = n // 2\n",
    "        count += 1\n",
    "    else:\n",
    "        limit = n // 2 + 1\n",
    "    for k in range(1, limit):\n",
    "        if comb(n, k) > 1000000:\n",
    "            count += 2\n",
    "print(count)"
   ]
  }
 ],
 "metadata": {
  "kernelspec": {
   "display_name": "Python 3",
   "language": "python",
   "name": "python3"
  },
  "language_info": {
   "codemirror_mode": {
    "name": "ipython",
    "version": 3
   },
   "file_extension": ".py",
   "mimetype": "text/x-python",
   "name": "python",
   "nbconvert_exporter": "python",
   "pygments_lexer": "ipython3",
   "version": "3.8.10"
  }
 },
 "nbformat": 4,
 "nbformat_minor": 5
}
