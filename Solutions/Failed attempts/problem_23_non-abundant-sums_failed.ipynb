{
 "cells": [
  {
   "cell_type": "markdown",
   "id": "5a26b706-be34-49fb-b8b7-a02155115cde",
   "metadata": {},
   "source": [
    "# Project Euler\n",
    "## [Problem 23]((https://projecteuler.net/problem=23))\n",
    "### Non-abundant sums"
   ]
  },
  {
   "cell_type": "markdown",
   "id": "e0c19b77-5ff4-4438-975f-81e8c8ee41b5",
   "metadata": {},
   "source": [
    "<p>A perfect number is a number for which the sum of its proper divisors is exactly equal to the number. For example, the sum of the proper divisors of 28 would be 1 + 2 + 4 + 7 + 14 = 28, which means that 28 is a perfect number.</p>\n",
    "<p>A number <var>n</var> is called deficient if the sum of its proper divisors is less than <var>n</var> and it is called abundant if this sum exceeds <var>n</var>.</p>\n",
    "\n",
    "<p>As 12 is the smallest abundant number, 1 + 2 + 3 + 4 + 6 = 16, the smallest number that can be written as the sum of two abundant numbers is 24. By mathematical analysis, it can be shown that all integers greater than 28123 can be written as the sum of two abundant numbers. However, this upper limit cannot be reduced any further by analysis even though it is known that the greatest number that cannot be expressed as the sum of two abundant numbers is less than this limit.</p>\n",
    "<p>Find the sum of all the positive integers which cannot be written as the sum of two abundant numbers.</p>"
   ]
  },
  {
   "cell_type": "code",
   "execution_count": 1,
   "id": "e7a123eb-0658-4126-919f-8385f2c49f99",
   "metadata": {},
   "outputs": [],
   "source": [
    "from time import time\n",
    "\n",
    "from eulerlib import get_factors\n",
    "\n",
    "MAX_NUMBER = 28123\n",
    "\n",
    "\n",
    "def remove_multiples(number, list_of_numbers):\n",
    "    max_multiple = max(list_of_numbers)\n",
    "    max_factor = max_multiple // number + 1\n",
    "    for i in range(2, max_factor):\n",
    "        multiple = i * number\n",
    "        if multiple in list_of_numbers:\n",
    "            list_of_numbers.remove(multiple)\n",
    "    \n",
    "    return None"
   ]
  },
  {
   "cell_type": "code",
   "execution_count": 2,
   "id": "44216e2e-7115-458a-86b6-b7fd3651c161",
   "metadata": {},
   "outputs": [],
   "source": [
    "abundant_numbers = []\n",
    "for number in range(12, MAX_NUMBER+1):\n",
    "    if sum(get_factors(number)) > number:\n",
    "        abundant_numbers.append(number)\n",
    "primitive_abundants = [number for number in abundant_numbers]\n",
    "for number in primitive_abundants:\n",
    "    remove_multiples(number, primitive_abundants)"
   ]
  },
  {
   "cell_type": "code",
   "execution_count": 3,
   "id": "7d19e0f1-5033-45fb-8a70-755980cf0e55",
   "metadata": {},
   "outputs": [
    {
     "name": "stdout",
     "output_type": "stream",
     "text": [
      "6965\n",
      "973\n"
     ]
    }
   ],
   "source": [
    "print(len(abundant_numbers))\n",
    "print(len(primitive_abundants))"
   ]
  },
  {
   "cell_type": "code",
   "execution_count": 4,
   "id": "e4e81daf-3619-4d90-a814-9f458c61b45f",
   "metadata": {},
   "outputs": [
    {
     "name": "stdout",
     "output_type": "stream",
     "text": [
      "[12, 18, 20, 30, 42, 56, 66, 70, 78, 88, 102, 104, 114, 138, 174, 186, 196, 222, 246, 258]\n"
     ]
    }
   ],
   "source": [
    "print(primitive_abundants[:20])"
   ]
  },
  {
   "cell_type": "code",
   "execution_count": 5,
   "id": "c9bfdedf-e971-4559-8d12-7693389a80f6",
   "metadata": {},
   "outputs": [
    {
     "name": "stdout",
     "output_type": "stream",
     "text": [
      "Making number lists...\n",
      "Pruning potential_sums...\n",
      "Pruned potential_sums in 5.199 seconds.\n",
      "Finding non-abundant sums...\n",
      "Calculated through 1000 numbers in 2.463 seconds...\n",
      "Calculated through 2000 numbers in 7.868 seconds...\n",
      "Calculated through 3000 numbers in 14.349 seconds...\n",
      "Calculated through 4000 numbers in 23.634 seconds...\n",
      "Calculated through 5000 numbers in 33.369 seconds...\n",
      "Calculated through 6000 numbers in 44.361 seconds...\n",
      "Calculated through 7000 numbers in 55.868 seconds...\n",
      "Calculated through 8000 numbers in 67.858 seconds...\n",
      "Calculated through 9000 numbers in 79.413 seconds...\n",
      "Calculated through 10000 numbers in 90.492 seconds...\n",
      "Calculated through 11000 numbers in 103.370 seconds...\n",
      "Calculated through 12000 numbers in 116.337 seconds...\n",
      "Calculated through 13000 numbers in 129.456 seconds...\n",
      "Calculated through 14000 numbers in 143.660 seconds...\n",
      "Calculated through 15000 numbers in 158.135 seconds...\n",
      "Calculated through 16000 numbers in 173.876 seconds...\n",
      "Calculated through 17000 numbers in 186.996 seconds...\n",
      "Calculated through 18000 numbers in 200.996 seconds...\n",
      "Calculated through 19000 numbers in 217.005 seconds...\n",
      "Calculated through 20000 numbers in 231.681 seconds...\n",
      "Calculated through 21000 numbers in 246.713 seconds...\n",
      "Calculated through 22000 numbers in 262.320 seconds...\n",
      "Done calculating!\n",
      "Calculated through 22108 numbers in 263.944 seconds...\n"
     ]
    }
   ],
   "source": [
    "print(\"Making number lists...\")\n",
    "not_sums = [i+1 for i in range(23)]\n",
    "potential_sums = [number for number in range(25, MAX_NUMBER+1)]\n",
    "print(\"Pruning potential_sums...\")\n",
    "start_time = time()\n",
    "for abundant_number in primitive_abundants:\n",
    "    remove_multiples(abundant_number, potential_sums)\n",
    "end_time = time()\n",
    "print(f\"Pruned potential_sums in {end_time-start_time:.3f} seconds.\")\n",
    "print(\"Finding non-abundant sums...\")\n",
    "count = 0\n",
    "start_time = time()\n",
    "for number in potential_sums:\n",
    "    is_abundant_sum = False\n",
    "    for abundant_number in primitive_abundants:\n",
    "        if abundant_number > number:\n",
    "            break\n",
    "        else:\n",
    "            remainder = number % abundant_number\n",
    "            if remainder in abundant_numbers or remainder == 0:\n",
    "                is_abundant_sum == True\n",
    "                break\n",
    "    if is_abundant_sum:\n",
    "        remove_multiples(number, potential_sums)\n",
    "    else:\n",
    "        not_sums.append(number)\n",
    "    count += 1\n",
    "    if count % 1000 == 0:\n",
    "        interval_time = time()\n",
    "        print(f\"Calculated through {count} numbers in {interval_time-start_time:.3f} seconds...\")\n",
    "end_time = time()\n",
    "print(\"Done calculating!\")\n",
    "print(f\"Calculated through {count} numbers in {end_time-start_time:.3f} seconds.\")"
   ]
  },
  {
   "cell_type": "code",
   "execution_count": 6,
   "id": "5536f7cb-b176-47f7-a46c-4614d59c81c8",
   "metadata": {},
   "outputs": [
    {
     "data": {
      "text/plain": [
       "22131"
      ]
     },
     "execution_count": 6,
     "metadata": {},
     "output_type": "execute_result"
    }
   ],
   "source": [
    "len(not_sums)"
   ]
  },
  {
   "cell_type": "code",
   "execution_count": 7,
   "id": "f510a61b-246d-4f05-b193-72bc65821431",
   "metadata": {},
   "outputs": [
    {
     "data": {
      "text/plain": [
       "[1,\n",
       " 2,\n",
       " 3,\n",
       " 4,\n",
       " 5,\n",
       " 6,\n",
       " 7,\n",
       " 8,\n",
       " 9,\n",
       " 10,\n",
       " 11,\n",
       " 12,\n",
       " 13,\n",
       " 14,\n",
       " 15,\n",
       " 16,\n",
       " 17,\n",
       " 18,\n",
       " 19,\n",
       " 20,\n",
       " 21,\n",
       " 22,\n",
       " 23,\n",
       " 25,\n",
       " 26,\n",
       " 27,\n",
       " 28,\n",
       " 29,\n",
       " 30,\n",
       " 31,\n",
       " 32,\n",
       " 33,\n",
       " 34,\n",
       " 35,\n",
       " 37,\n",
       " 38,\n",
       " 39,\n",
       " 41,\n",
       " 42,\n",
       " 43]"
      ]
     },
     "execution_count": 7,
     "metadata": {},
     "output_type": "execute_result"
    }
   ],
   "source": [
    "not_sums[:40]"
   ]
  },
  {
   "cell_type": "code",
   "execution_count": 8,
   "id": "9e48f219-9e97-464d-b1a0-0143f5125189",
   "metadata": {},
   "outputs": [
    {
     "data": {
      "text/plain": [
       "309887890"
      ]
     },
     "execution_count": 8,
     "metadata": {},
     "output_type": "execute_result"
    }
   ],
   "source": [
    "sum(not_sums)"
   ]
  }
 ],
 "metadata": {
  "kernelspec": {
   "display_name": "Python 3",
   "language": "python",
   "name": "python3"
  },
  "language_info": {
   "codemirror_mode": {
    "name": "ipython",
    "version": 3
   },
   "file_extension": ".py",
   "mimetype": "text/x-python",
   "name": "python",
   "nbconvert_exporter": "python",
   "pygments_lexer": "ipython3",
   "version": "3.8.10"
  }
 },
 "nbformat": 4,
 "nbformat_minor": 5
}
