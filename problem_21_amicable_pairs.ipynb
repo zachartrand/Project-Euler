{
 "cells": [
  {
   "cell_type": "markdown",
   "id": "9e48ffda-db4e-4309-bf4c-90589419b6a7",
   "metadata": {},
   "source": [
    "# Problem 21\n",
    "\n",
    "## Amicable numbers\n",
    "\n",
    "Let $d(n)$ be defined as the sum of proper divisors of $n$ (numbers less than $n$ which divide evenly into $n$).\n",
    "If $d(a) = b$ and $d(b) = a$, where $a ≠ b$, then $a$ and $b$ are an amicable pair and each of $a$ and $b$ are called amicable numbers.\n",
    "\n",
    "For example, the proper divisors of $220$ are $1, 2, 4, 5, 10, 11, 20, 22, 44, 55$ and $110$; therefore $d(220) = 284$. The proper divisors of $284$ are $1, 2, 4, 71$ and $142$; so $d(284) = 220$.\n",
    "\n",
    "Evaluate the sum of all the amicable numbers under $10000$."
   ]
  },
  {
   "cell_type": "code",
   "execution_count": 1,
   "id": "832e743b-dce5-4784-98cf-e13e2f48b38f",
   "metadata": {},
   "outputs": [],
   "source": [
    "import math"
   ]
  },
  {
   "cell_type": "code",
   "execution_count": 25,
   "id": "755d268b-f2e5-47ee-89b6-04f1fae41880",
   "metadata": {},
   "outputs": [],
   "source": [
    "def get_factors(n, /):\n",
    "    \"\"\"Return all factors of n not including n itself.\"\"\"\n",
    "    factors = [1]\n",
    "    for i in range(2, math.floor(math.sqrt(n)) + 1):\n",
    "        if n % i == 0:\n",
    "            factors.append(i)\n",
    "            other_factor = n // i\n",
    "            if other_factor != i:\n",
    "                factors.append(other_factor)\n",
    "    \n",
    "    factors.sort()\n",
    "    return factors\n",
    "\n",
    "\n",
    "def find_amicable_numbers_below(n, /):\n",
    "    \"\"\"Return all amicable numbers below the given number.\"\"\"\n",
    "    amicable_numbers = [220, 284]\n",
    "    rejects = []  # Place numbers that are not amicable here to shorten calculations.\n",
    "    for i in range(221, n):\n",
    "        if (i not in amicable_numbers) and (i not in rejects):\n",
    "            factors = get_factors(i)\n",
    "            possible_partner = sum(factors)\n",
    "            if (\n",
    "                    (possible_partner != i)\n",
    "                    and (possible_partner > i)\n",
    "                    and (possible_partner not in rejects)):\n",
    "                possible_partner_factors = get_factors(possible_partner)\n",
    "                if sum(possible_partner_factors) == i:\n",
    "                    amicable_numbers.append(i)\n",
    "                    amicable_numbers.append(possible_partner)\n",
    "            else:\n",
    "                rejects.append(i)\n",
    "                \n",
    "    amicable_numbers\n",
    "    return amicable_numbers"
   ]
  },
  {
   "cell_type": "code",
   "execution_count": 26,
   "id": "0a3f2999-aead-4d19-b50a-e5c54da95b6b",
   "metadata": {},
   "outputs": [
    {
     "name": "stdout",
     "output_type": "stream",
     "text": [
      "[220, 284, 1184, 1210, 2620, 2924, 5020, 5564, 6232, 6368]\n"
     ]
    }
   ],
   "source": [
    "amicable_numbers = find_amicable_numbers_below(10000)\n",
    "print(amicable_numbers)"
   ]
  },
  {
   "cell_type": "code",
   "execution_count": 27,
   "id": "3e4016cd-1e98-4d56-a01e-b00efcd3015b",
   "metadata": {},
   "outputs": [
    {
     "data": {
      "text/plain": [
       "31626"
      ]
     },
     "execution_count": 27,
     "metadata": {},
     "output_type": "execute_result"
    }
   ],
   "source": [
    "sum(amicable_numbers)"
   ]
  }
 ],
 "metadata": {
  "kernelspec": {
   "display_name": "Python 3",
   "language": "python",
   "name": "python3"
  },
  "language_info": {
   "codemirror_mode": {
    "name": "ipython",
    "version": 3
   },
   "file_extension": ".py",
   "mimetype": "text/x-python",
   "name": "python",
   "nbconvert_exporter": "python",
   "pygments_lexer": "ipython3",
   "version": "3.8.10"
  }
 },
 "nbformat": 4,
 "nbformat_minor": 5
}
