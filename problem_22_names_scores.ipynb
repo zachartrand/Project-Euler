{
 "cells": [
  {
   "cell_type": "markdown",
   "id": "dd218eec-b3c4-45c9-9800-90f1d832252f",
   "metadata": {},
   "source": [
    "# Project Euler\n",
    "## Problem 22\n",
    "### Names scores\n",
    "\n",
    "Using names.txt, a 46K text file containing over five-thousand first names, begin by sorting it into alphabetical order. Then working out the alphabetical value for each name, multiply this value by its alphabetical position in the list to obtain a name score.\n",
    "\n",
    "For example, when the list is sorted into alphabetical order, COLIN, which is worth $3 + 15 + 12 + 9 + 14 = 53$, is the $938^{th}$ name in the list. So, COLIN would obtain a score of $938 × 53 = 49714$.\n",
    "\n",
    "What is the total of all the name scores in the file?"
   ]
  },
  {
   "cell_type": "code",
   "execution_count": 1,
   "id": "2a8c7989-2964-4de5-9f4f-7d39c087f2d5",
   "metadata": {},
   "outputs": [],
   "source": [
    "LETTERS = 'ABCDEFGHIJKLMNOPQRSTUVWXYZ'\n",
    "LETTER_SCORES = {}\n",
    "for letter in LETTERS:\n",
    "    LETTER_SCORES[letter] = LETTERS.index(letter) + 1"
   ]
  },
  {
   "cell_type": "code",
   "execution_count": 2,
   "id": "a1046d7f-6c9f-4016-834a-6b32f69ae213",
   "metadata": {},
   "outputs": [],
   "source": [
    "with open('p022_names.txt', 'r') as file:\n",
    "    text = file.read().replace('\"', '')\n",
    "    names = text.split(',')\n",
    "    names.sort()"
   ]
  },
  {
   "cell_type": "code",
   "execution_count": 3,
   "id": "84465c92-5b71-460f-9c3e-1717811bd9c5",
   "metadata": {},
   "outputs": [
    {
     "name": "stdout",
     "output_type": "stream",
     "text": [
      "871198282\n"
     ]
    }
   ],
   "source": [
    "total_score = 0\n",
    "for name in names:\n",
    "    word_score = 0\n",
    "    for letter in name:\n",
    "        word_score += LETTER_SCORES[letter]\n",
    "    total_score += word_score * (names.index(name)+1)\n",
    "print(total_score)"
   ]
  }
 ],
 "metadata": {
  "kernelspec": {
   "display_name": "Python 3",
   "language": "python",
   "name": "python3"
  },
  "language_info": {
   "codemirror_mode": {
    "name": "ipython",
    "version": 3
   },
   "file_extension": ".py",
   "mimetype": "text/x-python",
   "name": "python",
   "nbconvert_exporter": "python",
   "pygments_lexer": "ipython3",
   "version": "3.8.10"
  }
 },
 "nbformat": 4,
 "nbformat_minor": 5
}
